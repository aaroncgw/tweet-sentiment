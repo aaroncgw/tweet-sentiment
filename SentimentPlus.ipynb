{
 "cells": [
  {
   "cell_type": "code",
   "execution_count": 1,
   "metadata": {},
   "outputs": [],
   "source": [
    "from transformers import DistilBertModel, DistilBertTokenizer\n",
    "from torch.utils.data.dataset import Dataset\n",
    "import torch\n",
    "from modules.tweet_data import read_raw_data, clean_sentiment\n",
    "import re"
   ]
  },
  {
   "cell_type": "code",
   "execution_count": 2,
   "metadata": {},
   "outputs": [],
   "source": [
    "# sentiment-analysis uses model 'distilbert-base-uncased-finetuned-sst-2-english'\n",
    "# https://huggingface.co/transformers/_modules/transformers/pipelines.html#TextClassificationPipeline\n",
    "MODEL_NAME = 'distilbert-base-uncased-finetuned-sst-2-english'\n",
    "# Load pre-trained model\n",
    "model = DistilBertModel.from_pretrained(MODEL_NAME)\n",
    "# Load pre-trained model tokenizer (vocabulary)\n",
    "tokenizer = DistilBertTokenizer.from_pretrained(MODEL_NAME)"
   ]
  },
  {
   "cell_type": "code",
   "execution_count": 9,
   "metadata": {},
   "outputs": [],
   "source": [
    "#tweet_df = read_raw_data()\n",
    "pearkes = tweet_df[tweet_df.handle=='pearkes']"
   ]
  },
  {
   "cell_type": "code",
   "execution_count": 15,
   "metadata": {},
   "outputs": [
    {
     "data": {
      "text/html": [
       "<div>\n",
       "<style scoped>\n",
       "    .dataframe tbody tr th:only-of-type {\n",
       "        vertical-align: middle;\n",
       "    }\n",
       "\n",
       "    .dataframe tbody tr th {\n",
       "        vertical-align: top;\n",
       "    }\n",
       "\n",
       "    .dataframe thead th {\n",
       "        text-align: right;\n",
       "    }\n",
       "</style>\n",
       "<table border=\"1\" class=\"dataframe\">\n",
       "  <thead>\n",
       "    <tr style=\"text-align: right;\">\n",
       "      <th></th>\n",
       "      <th>tweet_id</th>\n",
       "      <th>handle</th>\n",
       "      <th>tweet</th>\n",
       "    </tr>\n",
       "    <tr>\n",
       "      <th>timestamp</th>\n",
       "      <th></th>\n",
       "      <th></th>\n",
       "      <th></th>\n",
       "    </tr>\n",
       "  </thead>\n",
       "  <tbody>\n",
       "    <tr>\n",
       "      <th>2014-02-07 00:18:33</th>\n",
       "      <td>431582720037486592</td>\n",
       "      <td>pearkes</td>\n",
       "      <td>All of the lights.</td>\n",
       "    </tr>\n",
       "    <tr>\n",
       "      <th>2014-02-07 23:50:16</th>\n",
       "      <td>431937991419101184</td>\n",
       "      <td>pearkes</td>\n",
       "      <td>Terribly sad day for Cal, thoughts are with Te...</td>\n",
       "    </tr>\n",
       "    <tr>\n",
       "      <th>2014-02-08 01:15:29</th>\n",
       "      <td>431959433997221888</td>\n",
       "      <td>pearkes</td>\n",
       "      <td>I'm sure this has been said before but, but. I...</td>\n",
       "    </tr>\n",
       "    <tr>\n",
       "      <th>2014-02-08 02:20:08</th>\n",
       "      <td>431975706969796608</td>\n",
       "      <td>pearkes</td>\n",
       "      <td>Cheap cab sauv, finished martini, red beans an...</td>\n",
       "    </tr>\n",
       "    <tr>\n",
       "      <th>2014-02-08 20:59:28</th>\n",
       "      <td>432257395142950912</td>\n",
       "      <td>pearkes</td>\n",
       "      <td>\"My cheekbones look great in that picture so I...</td>\n",
       "    </tr>\n",
       "  </tbody>\n",
       "</table>\n",
       "</div>"
      ],
      "text/plain": [
       "                               tweet_id   handle  \\\n",
       "timestamp                                          \n",
       "2014-02-07 00:18:33  431582720037486592  pearkes   \n",
       "2014-02-07 23:50:16  431937991419101184  pearkes   \n",
       "2014-02-08 01:15:29  431959433997221888  pearkes   \n",
       "2014-02-08 02:20:08  431975706969796608  pearkes   \n",
       "2014-02-08 20:59:28  432257395142950912  pearkes   \n",
       "\n",
       "                                                                 tweet  \n",
       "timestamp                                                               \n",
       "2014-02-07 00:18:33                             All of the lights.      \n",
       "2014-02-07 23:50:16  Terribly sad day for Cal, thoughts are with Te...  \n",
       "2014-02-08 01:15:29  I'm sure this has been said before but, but. I...  \n",
       "2014-02-08 02:20:08  Cheap cab sauv, finished martini, red beans an...  \n",
       "2014-02-08 20:59:28  \"My cheekbones look great in that picture so I...  "
      ]
     },
     "execution_count": 15,
     "metadata": {},
     "output_type": "execute_result"
    }
   ],
   "source": [
    "pearkes.head()"
   ]
  },
  {
   "cell_type": "code",
   "execution_count": 10,
   "metadata": {},
   "outputs": [
    {
     "name": "stdout",
     "output_type": "stream",
     "text": [
      "Filtering link\n",
      "Filtering piclink\n",
      "Filtering hashtag\n",
      "Filtering email\n",
      "Filtering add\n"
     ]
    }
   ],
   "source": [
    "pearkes.tweet = clean_sentiment(pearkes.tweet)"
   ]
  },
  {
   "cell_type": "code",
   "execution_count": 6,
   "metadata": {},
   "outputs": [
    {
     "data": {
      "text/plain": [
       "'yes, exactly...that or '"
      ]
     },
     "execution_count": 6,
     "metadata": {},
     "output_type": "execute_result"
    }
   ],
   "source": [
    "pearkes.iloc[101001].tweet"
   ]
  },
  {
   "cell_type": "code",
   "execution_count": 71,
   "metadata": {},
   "outputs": [],
   "source": [
    "data = tokenizer.batch_encode_plus(pearkes.tweet, \n",
    "                            return_tensors=\"pt\",\n",
    "                            padding=True,\n",
    "                            truncation=True)"
   ]
  },
  {
   "cell_type": "code",
   "execution_count": 77,
   "metadata": {},
   "outputs": [],
   "source": [
    "class MarketSentimentDataset(Dataset):\n",
    "    def __init__(self, tweets, targets, tokenizer):\n",
    "        self.tweets = reviews\n",
    "        self.targets = targets\n",
    "        self.tokenizer = tokenizer\n",
    "    def __len__(self):\n",
    "        return len(self.tweets)\n",
    "    def __getitem__(self, item):\n",
    "        tweet = str(self.tweets[item])\n",
    "        target = self.targets[item]\n",
    "        tokenized = self.tokenizer.encode_plus(tweet, \n",
    "                                             return_tensors=\"pt\",\n",
    "                                             padding=True,\n",
    "                                             truncation=True)\n",
    "        return {\n",
    "          'review_text': tweet,\n",
    "          'input_ids': tokenized['input_ids'].flatten(),\n",
    "          'attention_mask': tokenized['attention_mask'].flatten(),\n",
    "          'targets': torch.tensor(target, dtype=torch.long)\n",
    "        }"
   ]
  }
 ],
 "metadata": {
  "kernelspec": {
   "display_name": "Python 3",
   "language": "python",
   "name": "python3"
  },
  "language_info": {
   "codemirror_mode": {
    "name": "ipython",
    "version": 3
   },
   "file_extension": ".py",
   "mimetype": "text/x-python",
   "name": "python",
   "nbconvert_exporter": "python",
   "pygments_lexer": "ipython3",
   "version": "3.7.6"
  }
 },
 "nbformat": 4,
 "nbformat_minor": 4
}
