{
 "cells": [
  {
   "cell_type": "code",
   "execution_count": 76,
   "metadata": {},
   "outputs": [],
   "source": [
    "from transformers import DistilBertModel, DistilBertTokenizer\n",
    "from torch.utils.data.dataset import Dataset\n",
    "import torch\n",
    "from modules.tweet_data import read_raw_data\n",
    "import re"
   ]
  },
  {
   "cell_type": "code",
   "execution_count": 9,
   "metadata": {},
   "outputs": [],
   "source": [
    "MODEL_NAME = 'distilbert-base-cased'\n",
    "# Load pre-trained model\n",
    "model = DistilBertModel.from_pretrained(MODEL_NAME)\n",
    "# Load pre-trained model tokenizer (vocabulary)\n",
    "tokenizer = DistilBertTokenizer.from_pretrained(MODEL_NAME)"
   ]
  },
  {
   "cell_type": "code",
   "execution_count": 66,
   "metadata": {},
   "outputs": [],
   "source": [
    "#tweet_df = read_raw_data()\n",
    "pearkes = tweet_df[tweet_df.handle=='pearkes']"
   ]
  },
  {
   "cell_type": "code",
   "execution_count": 67,
   "metadata": {},
   "outputs": [
    {
     "name": "stdout",
     "output_type": "stream",
     "text": [
      "Filtering link\n",
      "Filtering piclink\n",
      "Filtering hashtag\n",
      "Filtering email\n",
      "Filtering add\n"
     ]
    }
   ],
   "source": [
    "REGEX_DICT = {'link': \"http\\S+\",\n",
    "              'piclink': \"pic.twitter.com\\S+\",\n",
    "              'hashtag': \"\\B#\\w*[a-zA-Z]+\\w*|#\\w*[a-zA-Z]+\\w*\",\n",
    "              'email': \"[a-zA-Z0-9+._-]+@[a-zA-Z0-9._-]+\\.[a-zA-Z0-9_-]+\",\n",
    "              'add': \"\\s([@][\\w_-]+)|[@][\\w_-]+\"}\n",
    "\n",
    "for key, value in REGEX_DICT.items():\n",
    "    print('Filtering', key)\n",
    "    pearkes.tweet = pearkes.tweet.apply(lambda tweet: re.sub(value, '', tweet))"
   ]
  },
  {
   "cell_type": "code",
   "execution_count": 70,
   "metadata": {},
   "outputs": [
    {
     "data": {
      "text/plain": [
       "['yes', ',', 'exactly', '.', '.', '.', 'that', 'or']"
      ]
     },
     "execution_count": 70,
     "metadata": {},
     "output_type": "execute_result"
    }
   ],
   "source": [
    "tokenizer.tokenize(pearkes.iloc[101001].tweet)"
   ]
  },
  {
   "cell_type": "code",
   "execution_count": 71,
   "metadata": {},
   "outputs": [],
   "source": [
    "data = tokenizer.batch_encode_plus(pearkes.tweet, \n",
    "                            return_tensors=\"pt\",\n",
    "                            padding=True,\n",
    "                            truncation=True)"
   ]
  },
  {
   "cell_type": "code",
   "execution_count": 77,
   "metadata": {},
   "outputs": [],
   "source": [
    "class MarketSentimentDataset(Dataset):\n",
    "    def __init__(self, tweets, targets, tokenizer):\n",
    "        self.tweets = reviews\n",
    "        self.targets = targets\n",
    "        self.tokenizer = tokenizer\n",
    "    def __len__(self):\n",
    "        return len(self.tweets)\n",
    "    def __getitem__(self, item):\n",
    "        tweet = str(self.tweets[item])\n",
    "        target = self.targets[item]\n",
    "        tokenized = self.tokenizer.encode_plus(tweet, \n",
    "                                             return_tensors=\"pt\",\n",
    "                                             padding=True,\n",
    "                                             truncation=True)\n",
    "        return {\n",
    "          'review_text': tweet,\n",
    "          'input_ids': tokenized['input_ids'].flatten(),\n",
    "          'attention_mask': tokenized['attention_mask'].flatten(),\n",
    "          'targets': torch.tensor(target, dtype=torch.long)\n",
    "        }"
   ]
  }
 ],
 "metadata": {
  "kernelspec": {
   "display_name": "Python 3",
   "language": "python",
   "name": "python3"
  },
  "language_info": {
   "codemirror_mode": {
    "name": "ipython",
    "version": 3
   },
   "file_extension": ".py",
   "mimetype": "text/x-python",
   "name": "python",
   "nbconvert_exporter": "python",
   "pygments_lexer": "ipython3",
   "version": "3.7.6"
  }
 },
 "nbformat": 4,
 "nbformat_minor": 4
}
