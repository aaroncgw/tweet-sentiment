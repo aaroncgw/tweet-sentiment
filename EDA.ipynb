{
 "cells": [
  {
   "cell_type": "code",
   "execution_count": 1,
   "metadata": {},
   "outputs": [],
   "source": [
    "from modules.tweet_data import read_raw_data\n",
    "\n",
    "import pandas as pd\n",
    "import spacy\n",
    "import re\n",
    "from sklearn.feature_extraction.text import CountVectorizer, TfidfVectorizer\n",
    "from sklearn.decomposition import NMF, LatentDirichletAllocation\n",
    "\n",
    "import matplotlib.pyplot as plt"
   ]
  },
  {
   "cell_type": "code",
   "execution_count": 2,
   "metadata": {},
   "outputs": [],
   "source": [
    "classi = pd.read_csv('data/handle_class.csv')"
   ]
  },
  {
   "cell_type": "code",
   "execution_count": 3,
   "metadata": {},
   "outputs": [
    {
     "data": {
      "image/png": "[encoded data removed]",
      "text/plain": [
       "<Figure size 432x288 with 1 Axes>"
      ]
     },
     "metadata": {},
     "output_type": "display_data"
    }
   ],
   "source": [
    "plt.pie(classi.groupby('class').count()['handle'], \n",
    "        labels=classi.groupby('class').count()['handle'].index,\n",
    "        autopct='%1.0f%%', colors =['mediumturquoise', 'cyan', 'deepskyblue']);"
   ]
  },
  {
   "cell_type": "code",
   "execution_count": 7,
   "metadata": {},
   "outputs": [
    {
     "ename": "TypeError",
     "evalue": "bar() missing 1 required positional argument: 'height'",
     "output_type": "error",
     "traceback": [
      "\u001b[0;31m---------------------------------------------------------------------------\u001b[0m",
      "\u001b[0;31mTypeError\u001b[0m                                 Traceback (most recent call last)",
      "\u001b[0;32m<ipython-input-7-11354eee7470>\u001b[0m in \u001b[0;36m<module>\u001b[0;34m\u001b[0m\n\u001b[0;32m----> 1\u001b[0;31m \u001b[0mplt\u001b[0m\u001b[0;34m.\u001b[0m\u001b[0mbar\u001b[0m\u001b[0;34m(\u001b[0m\u001b[0mclassi\u001b[0m\u001b[0;34m.\u001b[0m\u001b[0mgroupby\u001b[0m\u001b[0;34m(\u001b[0m\u001b[0;34m'class'\u001b[0m\u001b[0;34m)\u001b[0m\u001b[0;34m.\u001b[0m\u001b[0mcount\u001b[0m\u001b[0;34m(\u001b[0m\u001b[0;34m)\u001b[0m\u001b[0;34m)\u001b[0m\u001b[0;34m\u001b[0m\u001b[0;34m\u001b[0m\u001b[0m\n\u001b[0m",
      "\u001b[0;31mTypeError\u001b[0m: bar() missing 1 required positional argument: 'height'"
     ]
    }
   ],
   "source": [
    "plt.bar(classi.groupby('class').count())"
   ]
  },
  {
   "cell_type": "code",
   "execution_count": 2,
   "metadata": {},
   "outputs": [
    {
     "name": "stdout",
     "output_type": "stream",
     "text": [
      "Reading data\n"
     ]
    }
   ],
   "source": [
    "tweet_df = read_raw_data()"
   ]
  },
  {
   "cell_type": "code",
   "execution_count": 3,
   "metadata": {},
   "outputs": [
    {
     "data": {
      "text/html": [
       "<div>\n",
       "<style scoped>\n",
       "    .dataframe tbody tr th:only-of-type {\n",
       "        vertical-align: middle;\n",
       "    }\n",
       "\n",
       "    .dataframe tbody tr th {\n",
       "        vertical-align: top;\n",
       "    }\n",
       "\n",
       "    .dataframe thead th {\n",
       "        text-align: right;\n",
       "    }\n",
       "</style>\n",
       "<table border=\"1\" class=\"dataframe\">\n",
       "  <thead>\n",
       "    <tr style=\"text-align: right;\">\n",
       "      <th></th>\n",
       "      <th>tweet_id</th>\n",
       "      <th>handle</th>\n",
       "      <th>tweet</th>\n",
       "    </tr>\n",
       "    <tr>\n",
       "      <th>timestamp</th>\n",
       "      <th></th>\n",
       "      <th></th>\n",
       "      <th></th>\n",
       "    </tr>\n",
       "  </thead>\n",
       "  <tbody>\n",
       "    <tr>\n",
       "      <th>2020-07-11 00:32:55</th>\n",
       "      <td>1281687871406186497</td>\n",
       "      <td>RANsquawk</td>\n",
       "      <td>Cheers good sir!!! you too mate :)</td>\n",
       "    </tr>\n",
       "    <tr>\n",
       "      <th>2020-07-11 00:37:10</th>\n",
       "      <td>1281688941389905921</td>\n",
       "      <td>lindayueh</td>\n",
       "      <td>Prime Minister, who posed in a face covering f...</td>\n",
       "    </tr>\n",
       "    <tr>\n",
       "      <th>2020-07-11 00:52:55</th>\n",
       "      <td>1281692904071876611</td>\n",
       "      <td>bopinion</td>\n",
       "      <td>Today, roughly 20% of all U.S.-listed stocks a...</td>\n",
       "    </tr>\n",
       "    <tr>\n",
       "      <th>2020-07-11 01:22:53</th>\n",
       "      <td>1281700446281838605</td>\n",
       "      <td>bopinion</td>\n",
       "      <td>We'll have to re-think some of our notions abo...</td>\n",
       "    </tr>\n",
       "    <tr>\n",
       "      <th>2020-07-11 01:53:32</th>\n",
       "      <td>1281708159606894598</td>\n",
       "      <td>bopinion</td>\n",
       "      <td>Something important is afoot.   Chinese stock ...</td>\n",
       "    </tr>\n",
       "  </tbody>\n",
       "</table>\n",
       "</div>"
      ],
      "text/plain": [
       "                                tweet_id     handle  \\\n",
       "timestamp                                             \n",
       "2020-07-11 00:32:55  1281687871406186497  RANsquawk   \n",
       "2020-07-11 00:37:10  1281688941389905921  lindayueh   \n",
       "2020-07-11 00:52:55  1281692904071876611   bopinion   \n",
       "2020-07-11 01:22:53  1281700446281838605   bopinion   \n",
       "2020-07-11 01:53:32  1281708159606894598   bopinion   \n",
       "\n",
       "                                                                 tweet  \n",
       "timestamp                                                               \n",
       "2020-07-11 00:32:55                 Cheers good sir!!! you too mate :)  \n",
       "2020-07-11 00:37:10  Prime Minister, who posed in a face covering f...  \n",
       "2020-07-11 00:52:55  Today, roughly 20% of all U.S.-listed stocks a...  \n",
       "2020-07-11 01:22:53  We'll have to re-think some of our notions abo...  \n",
       "2020-07-11 01:53:32  Something important is afoot.   Chinese stock ...  "
      ]
     },
     "execution_count": 3,
     "metadata": {},
     "output_type": "execute_result"
    }
   ],
   "source": [
    "tweet_df.tail()"
   ]
  },
  {
   "cell_type": "code",
   "execution_count": 4,
   "metadata": {},
   "outputs": [],
   "source": [
    "tweet_df = tweet_df[tweet_df.index < '06-01-2020']"
   ]
  },
  {
   "cell_type": "code",
   "execution_count": 4,
   "metadata": {},
   "outputs": [],
   "source": [
    "from spacy.tokenizer import _get_regex_pattern\n",
    "from spacy.tokens import Token\n",
    "\n",
    "nlp = spacy.load('en_core_web_sm')\n",
    "\n",
    "# get default pattern for tokens that don't get split\n",
    "re_token_match = _get_regex_pattern(nlp.Defaults.token_match)\n",
    "# add your patterns (here: hashtags and in-word hyphens)\n",
    "re_token_match = f\"({re_token_match}|#\\w+|\\w+-\\w+)\"\n",
    "\n",
    "# overwrite token_match function of the tokenizer\n",
    "nlp.tokenizer.token_match = re.compile(re_token_match).match\n",
    "\n",
    " #set a custom extension to match if token is a hashtag\n",
    "piclink_getter = lambda token: bool(re.match(\"pic.twitter.com\\S+\", token.text))\n",
    "Token.set_extension('is_piclink', getter=piclink_getter,force=True)\n",
    "hashtag_getter = lambda token: bool(re.match(\"#\\w+\", token.text))\n",
    "Token.set_extension('is_hashtag', getter=hashtag_getter,force=True)\n",
    "\n",
    "\n",
    "def twitter_tokenizer(d, \n",
    "                      model=nlp, \n",
    "                      urls=True,\n",
    "                      stop_words=True, \n",
    "                      lowercase=True, \n",
    "                      alpha_only=True, \n",
    "                      hashtags=False,\n",
    "                      lemma=False):\n",
    "    \"\"\"Full tokenizer with flags for processing steps\n",
    "    urls: If True, remove URLs\n",
    "    stop_words: If True, removes stop words\n",
    "    lowercase: If True, lowercases all tokens\n",
    "    alpha_only: If True, removes all non-alpha characters\n",
    "    lemma: If True, lemmatizes words\n",
    "    \n",
    "    The tokenizer also removes all URLS\n",
    "    \"\"\"\n",
    "    parsed = model(d)\n",
    "    # token collector\n",
    "    tokens = []\n",
    "    for t in parsed:\n",
    "        # remove URLs\n",
    "        if (t.like_url or t._.is_piclink)&(urls):\n",
    "            continue\n",
    "        # only include stop words if stop words==True\n",
    "        if (t.is_stop)&(stop_words):\n",
    "            continue\n",
    "        # only include non-alpha is alpha_only==False\n",
    "        if (not t.is_alpha)&(alpha_only):\n",
    "            if hashtags:\n",
    "                continue\n",
    "            else:\n",
    "                if not t._.is_hashtag:\n",
    "                    continue           \n",
    "        if lemma:\n",
    "            t = t.lemma_\n",
    "        else:\n",
    "            t = t.text\n",
    "        if lowercase:\n",
    "            t.lower()\n",
    "        tokens.append(t)\n",
    "    return(tokens)"
   ]
  },
  {
   "cell_type": "code",
   "execution_count": 110,
   "metadata": {},
   "outputs": [],
   "source": [
    "cv = CountVectorizer(tokenizer=twitter_tokenizer)\n",
    "count_vecs = cv.fit_transform(single_day.tweet)\n",
    "\n",
    "lda = LatentDirichletAllocation(n_components=5, random_state=42)\n",
    "lda_vecs = lda.fit_transform(count_vecs)"
   ]
  },
  {
   "cell_type": "code",
   "execution_count": 113,
   "metadata": {},
   "outputs": [],
   "source": [
    "tfidf = TfidfVectorizer(tokenizer=twitter_tokenizer)\n",
    "tfidf_vecs = tfidf.fit_transform(single_day.tweet)\n",
    "\n",
    "nmf = NMF(n_components=5, random_state=42)\n",
    "nmf_vecs = nmf.fit_transform(tfidf_vecs)"
   ]
  },
  {
   "cell_type": "markdown",
   "metadata": {},
   "source": [
    "# EDA"
   ]
  },
  {
   "cell_type": "markdown",
   "metadata": {},
   "source": [
    "2012-11-07 obama election  \n",
    "2015-07-08 The New York Stock Exchange stops trading for nearly four hours due to a technical error  \n",
    "2015-09-17 Fed meeting  \n",
    "2015-12-16 US Federal Reserve raises interest rates by 0.25% for the first time since 2006  \n",
    "2016-03-16 Fed leaves rates unchanged  \n",
    "2016-06-24 Brexit  \n",
    "2016-10-20 Debate  \n",
    "2016-11-09  Trump election  \n",
    "2017-06-09 Conservatives lose majority in UK  \n",
    "2018-11-07 Midterms  "
   ]
  },
  {
   "cell_type": "code",
   "execution_count": 6,
   "metadata": {},
   "outputs": [],
   "source": [
    "tweets_per_day = tweet_df.tweet.groupby(by=tweet_df.index.date).count()"
   ]
  },
  {
   "cell_type": "code",
   "execution_count": 7,
   "metadata": {},
   "outputs": [
    {
     "data": {
      "text/plain": [
       "Text(0.5, 1.0, 'Tweets per day')"
      ]
     },
     "execution_count": 7,
     "metadata": {},
     "output_type": "execute_result"
    },
    {
     "data": {
      "image/png": "[encoded data removed]",
      "text/plain": [
       "<Figure size 576x432 with 1 Axes>"
      ]
     },
     "metadata": {
      "needs_background": "light"
     },
     "output_type": "display_data"
    }
   ],
   "source": [
    "plt.subplots(figsize=(8,6))\n",
    "plt.plot(tweets_per_day)\n",
    "plt.title(\"Tweets per day\")"
   ]
  },
  {
   "cell_type": "code",
   "execution_count": 8,
   "metadata": {},
   "outputs": [
    {
     "data": {
      "text/plain": [
       "2012-11-07    17939\n",
       "2015-07-08    17197\n",
       "2015-09-17    18660\n",
       "2015-12-16    18206\n",
       "2016-01-15    17015\n",
       "2016-03-02    17057\n",
       "2016-03-16    17869\n",
       "2016-06-24    24785\n",
       "2016-09-27    17819\n",
       "2016-10-20    17602\n",
       "2016-11-09    27929\n",
       "2017-06-09    17623\n",
       "2018-11-07    17494\n",
       "2020-02-28    17639\n",
       "2020-03-03    17594\n",
       "2020-03-04    18346\n",
       "2020-03-06    17348\n",
       "2020-03-09    18626\n",
       "2020-03-11    19537\n",
       "2020-03-12    23061\n",
       "2020-03-13    20744\n",
       "2020-03-16    22648\n",
       "2020-03-17    20985\n",
       "2020-03-18    21861\n",
       "2020-03-19    20812\n",
       "2020-03-20    20098\n",
       "2020-03-23    18766\n",
       "2020-03-24    19513\n",
       "2020-03-25    19081\n",
       "2020-03-26    19490\n",
       "2020-03-27    18095\n",
       "2020-04-01    17019\n",
       "2020-04-02    17744\n",
       "2020-04-03    17113\n",
       "2020-04-08    17215\n",
       "2020-04-16    17025\n",
       "2020-04-21    18062\n",
       "Name: tweet, dtype: int64"
      ]
     },
     "execution_count": 8,
     "metadata": {},
     "output_type": "execute_result"
    }
   ],
   "source": [
    "tweets_per_day[tweets_per_day > 17000]"
   ]
  },
  {
   "cell_type": "code",
   "execution_count": 9,
   "metadata": {},
   "outputs": [],
   "source": [
    "users_per_day = tweet_df.handle.groupby(by=tweet_df.index.date).nunique()"
   ]
  },
  {
   "cell_type": "code",
   "execution_count": 10,
   "metadata": {},
   "outputs": [
    {
     "data": {
      "text/plain": [
       "Text(0.5, 1.0, 'Users per day')"
      ]
     },
     "execution_count": 10,
     "metadata": {},
     "output_type": "execute_result"
    },
    {
     "data": {
      "image/png": "[encoded data removed]",
      "text/plain": [
       "<Figure size 1080x720 with 1 Axes>"
      ]
     },
     "metadata": {
      "needs_background": "light"
     },
     "output_type": "display_data"
    }
   ],
   "source": [
    "plt.subplots(figsize=(15,10))\n",
    "plt.plot(users_per_day)\n",
    "plt.title('Users per day')"
   ]
  },
  {
   "cell_type": "code",
   "execution_count": 11,
   "metadata": {},
   "outputs": [],
   "source": [
    "active_twitters = tweet_df.handle.groupby(by=tweet_df.handle).count()"
   ]
  },
  {
   "cell_type": "code",
   "execution_count": 20,
   "metadata": {},
   "outputs": [
    {
     "data": {
      "text/plain": [
       "<BarContainer object of 1146 artists>"
      ]
     },
     "execution_count": 20,
     "metadata": {},
     "output_type": "execute_result"
    },
    {
     "data": {
      "image/png": "[encoded data removed]",
      "text/plain": [
       "<Figure size 1080x576 with 1 Axes>"
      ]
     },
     "metadata": {
      "needs_background": "light"
     },
     "output_type": "display_data"
    }
   ],
   "source": [
    "plt.subplots(figsize=(15,8))\n",
    "plt.bar(range(len(active_twitters)),active_twitters.sort_values(ascending=False))"
   ]
  },
  {
   "cell_type": "code",
   "execution_count": 72,
   "metadata": {},
   "outputs": [
    {
     "data": {
      "text/plain": [
       "43002"
      ]
     },
     "execution_count": 72,
     "metadata": {},
     "output_type": "execute_result"
    }
   ],
   "source": [
    "active_twitters['realDonaldTrump']"
   ]
  },
  {
   "cell_type": "code",
   "execution_count": 18,
   "metadata": {},
   "outputs": [],
   "source": [
    "single_day = tweet_df['2016-11-09']\n",
    "#single_day = tweet_df['2018-09-09']"
   ]
  },
  {
   "cell_type": "code",
   "execution_count": 19,
   "metadata": {},
   "outputs": [
    {
     "data": {
      "text/html": [
       "<div>\n",
       "<style scoped>\n",
       "    .dataframe tbody tr th:only-of-type {\n",
       "        vertical-align: middle;\n",
       "    }\n",
       "\n",
       "    .dataframe tbody tr th {\n",
       "        vertical-align: top;\n",
       "    }\n",
       "\n",
       "    .dataframe thead th {\n",
       "        text-align: right;\n",
       "    }\n",
       "</style>\n",
       "<table border=\"1\" class=\"dataframe\">\n",
       "  <thead>\n",
       "    <tr style=\"text-align: right;\">\n",
       "      <th></th>\n",
       "      <th>tweet_id</th>\n",
       "      <th>handle</th>\n",
       "      <th>tweet</th>\n",
       "    </tr>\n",
       "    <tr>\n",
       "      <th>timestamp</th>\n",
       "      <th></th>\n",
       "      <th></th>\n",
       "      <th></th>\n",
       "    </tr>\n",
       "  </thead>\n",
       "  <tbody>\n",
       "    <tr>\n",
       "      <th>2018-09-09 00:00:00</th>\n",
       "      <td>1038517328097423360</td>\n",
       "      <td>FoxBusiness</td>\n",
       "      <td>How a change in Washington attitude has moved ...</td>\n",
       "    </tr>\n",
       "    <tr>\n",
       "      <th>2018-09-09 00:00:00</th>\n",
       "      <td>1038517330542616576</td>\n",
       "      <td>RT_America</td>\n",
       "      <td>The Trump Admin. Muzzles Nuclear Weapons Safet...</td>\n",
       "    </tr>\n",
       "    <tr>\n",
       "      <th>2018-09-09 00:00:01</th>\n",
       "      <td>1038517333961134080</td>\n",
       "      <td>haaretzcom</td>\n",
       "      <td>Ring in the Jewish New Year with these Iranian...</td>\n",
       "    </tr>\n",
       "    <tr>\n",
       "      <th>2018-09-09 00:00:06</th>\n",
       "      <td>1038517354316144645</td>\n",
       "      <td>AJENews</td>\n",
       "      <td>Mexican President-elect Andres Manuel Lopez Ob...</td>\n",
       "    </tr>\n",
       "    <tr>\n",
       "      <th>2018-09-09 00:00:06</th>\n",
       "      <td>1038517354408419328</td>\n",
       "      <td>nytimes</td>\n",
       "      <td>Nearly 23,000 readers submitted questions abou...</td>\n",
       "    </tr>\n",
       "    <tr>\n",
       "      <th>...</th>\n",
       "      <td>...</td>\n",
       "      <td>...</td>\n",
       "      <td>...</td>\n",
       "    </tr>\n",
       "    <tr>\n",
       "      <th>2018-09-09 23:58:31</th>\n",
       "      <td>1038879343559274498</td>\n",
       "      <td>BenjaminNorton</td>\n",
       "      <td>Profit-seeking arsonist gets patent for techno...</td>\n",
       "    </tr>\n",
       "    <tr>\n",
       "      <th>2018-09-09 23:58:49</th>\n",
       "      <td>1038879417165074432</td>\n",
       "      <td>EuropeElects</td>\n",
       "      <td>Sweden: Our projection says MP will surpass th...</td>\n",
       "    </tr>\n",
       "    <tr>\n",
       "      <th>2018-09-09 23:58:56</th>\n",
       "      <td>1038879447691055104</td>\n",
       "      <td>LA_Banker</td>\n",
       "      <td>I don’t say this lightly, but it really is.</td>\n",
       "    </tr>\n",
       "    <tr>\n",
       "      <th>2018-09-09 23:59:33</th>\n",
       "      <td>1038879604960886784</td>\n",
       "      <td>ClausVistesen</td>\n",
       "      <td>Protestant work ethic? Let's have a big debate...</td>\n",
       "    </tr>\n",
       "    <tr>\n",
       "      <th>2018-09-09 23:59:40</th>\n",
       "      <td>1038879631053660162</td>\n",
       "      <td>firoozye</td>\n",
       "      <td>Reporting on personal finance led @jpinsk to s...</td>\n",
       "    </tr>\n",
       "  </tbody>\n",
       "</table>\n",
       "<p>5953 rows × 3 columns</p>\n",
       "</div>"
      ],
      "text/plain": [
       "                                tweet_id          handle  \\\n",
       "timestamp                                                  \n",
       "2018-09-09 00:00:00  1038517328097423360     FoxBusiness   \n",
       "2018-09-09 00:00:00  1038517330542616576      RT_America   \n",
       "2018-09-09 00:00:01  1038517333961134080      haaretzcom   \n",
       "2018-09-09 00:00:06  1038517354316144645         AJENews   \n",
       "2018-09-09 00:00:06  1038517354408419328         nytimes   \n",
       "...                                  ...             ...   \n",
       "2018-09-09 23:58:31  1038879343559274498  BenjaminNorton   \n",
       "2018-09-09 23:58:49  1038879417165074432    EuropeElects   \n",
       "2018-09-09 23:58:56  1038879447691055104       LA_Banker   \n",
       "2018-09-09 23:59:33  1038879604960886784   ClausVistesen   \n",
       "2018-09-09 23:59:40  1038879631053660162        firoozye   \n",
       "\n",
       "                                                                 tweet  \n",
       "timestamp                                                               \n",
       "2018-09-09 00:00:00  How a change in Washington attitude has moved ...  \n",
       "2018-09-09 00:00:00  The Trump Admin. Muzzles Nuclear Weapons Safet...  \n",
       "2018-09-09 00:00:01  Ring in the Jewish New Year with these Iranian...  \n",
       "2018-09-09 00:00:06  Mexican President-elect Andres Manuel Lopez Ob...  \n",
       "2018-09-09 00:00:06  Nearly 23,000 readers submitted questions abou...  \n",
       "...                                                                ...  \n",
       "2018-09-09 23:58:31  Profit-seeking arsonist gets patent for techno...  \n",
       "2018-09-09 23:58:49  Sweden: Our projection says MP will surpass th...  \n",
       "2018-09-09 23:58:56        I don’t say this lightly, but it really is.  \n",
       "2018-09-09 23:59:33  Protestant work ethic? Let's have a big debate...  \n",
       "2018-09-09 23:59:40  Reporting on personal finance led @jpinsk to s...  \n",
       "\n",
       "[5953 rows x 3 columns]"
      ]
     },
     "execution_count": 19,
     "metadata": {},
     "output_type": "execute_result"
    }
   ],
   "source": [
    "single_day"
   ]
  },
  {
   "cell_type": "code",
   "execution_count": 33,
   "metadata": {},
   "outputs": [],
   "source": [
    "cv = CountVectorizer(tokenizer=twitter_tokenizer)\n",
    "count_vecs = cv.fit_transform(single_day.tweet)"
   ]
  },
  {
   "cell_type": "code",
   "execution_count": 34,
   "metadata": {},
   "outputs": [],
   "source": [
    "lda = LatentDirichletAllocation(n_components=5, random_state=42)\n",
    "lda_vecs = lda.fit_transform(count_vecs)"
   ]
  },
  {
   "cell_type": "code",
   "execution_count": 35,
   "metadata": {},
   "outputs": [],
   "source": [
    "def display_components(model, word_features, top_display=5):\n",
    "    # utility for displaying respresentative words per component for topic models\n",
    "    for topic_idx, topic in enumerate(model.components_):\n",
    "        print(\"Topic %d:\" % (topic_idx))\n",
    "        top_words_idx = topic.argsort()[::-1][:top_display]\n",
    "        top_words = [word_features[i] for i in top_words_idx]\n",
    "        print(\" \".join(top_words))"
   ]
  },
  {
   "cell_type": "code",
   "execution_count": 36,
   "metadata": {},
   "outputs": [
    {
     "name": "stdout",
     "output_type": "stream",
     "text": [
      "Topic 0:\n",
      "sweden election #100yearsago sep new polls #val2018 exit party china #valet2018 poll france look swedish #swedenelection today times northern people\n",
      "Topic 1:\n",
      "like china trump amazon president new week know money people good today need market bad trade says world car great\n",
      "Topic 2:\n",
      "trump new people think time president years right thanks like says sure work yes house need good party said want\n",
      "Topic 3:\n",
      "north military korea trump like parade says people kavanaugh anniversary think russian new point years sunday market know missiles government\n",
      "Topic 4:\n",
      "serena good osaka people open like right williams new got year naomi game time great man final way going lot\n"
     ]
    }
   ],
   "source": [
    "display_components(lda, cv.get_feature_names(),top_display=20)"
   ]
  },
  {
   "cell_type": "code",
   "execution_count": 122,
   "metadata": {},
   "outputs": [],
   "source": [
    "sub = [lda, cv, nmf, tfidf]"
   ]
  },
  {
   "cell_type": "code",
   "execution_count": 127,
   "metadata": {},
   "outputs": [],
   "source": [
    "import pickle\n",
    "pickle.dump(sub, open( \"save.p\", \"wb\" ))"
   ]
  },
  {
   "cell_type": "code",
   "execution_count": 8,
   "metadata": {},
   "outputs": [],
   "source": [
    "import pickle\n",
    "a = pickle.load(open( \"save.p\", \"rb\" ))"
   ]
  },
  {
   "cell_type": "code",
   "execution_count": 11,
   "metadata": {},
   "outputs": [
    {
     "data": {
      "text/plain": [
       "[LatentDirichletAllocation(n_components=5, random_state=42),\n",
       " CountVectorizer(tokenizer=<function twitter_tokenizer at 0x7ffc201e0170>),\n",
       " NMF(n_components=5, random_state=42),\n",
       " TfidfVectorizer(tokenizer=<function twitter_tokenizer at 0x7ffc201e0170>)]"
      ]
     },
     "execution_count": 11,
     "metadata": {},
     "output_type": "execute_result"
    }
   ],
   "source": [
    "display_components(a[2], a[3].get_feature_names(), top_display=20)"
   ]
  }
 ],
 "metadata": {
  "kernelspec": {
   "display_name": "Python 3",
   "language": "python",
   "name": "python3"
  },
  "language_info": {
   "codemirror_mode": {
    "name": "ipython",
    "version": 3
   },
   "file_extension": ".py",
   "mimetype": "text/x-python",
   "name": "python",
   "nbconvert_exporter": "python",
   "pygments_lexer": "ipython3",
   "version": "3.7.6"
  }
 },
 "nbformat": 4,
 "nbformat_minor": 4
}
