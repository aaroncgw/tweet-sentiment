{
 "cells": [
  {
   "cell_type": "code",
   "execution_count": 399,
   "metadata": {},
   "outputs": [],
   "source": [
    "import pandas as pd\n",
    "import numpy as np\n",
    "\n",
    "from sklearn.metrics import f1_score, roc_auc_score, accuracy_score\n",
    "from sklearn.ensemble import RandomForestClassifier, GradientBoostingClassifier\n",
    "\n",
    "from sklearn.model_selection import TimeSeriesSplit\n",
    "from sklearn.metrics import log_loss\n",
    "\n",
    "import matplotlib.pyplot as plt"
   ]
  },
  {
   "cell_type": "markdown",
   "metadata": {},
   "source": [
    "# Topic Models"
   ]
  },
  {
   "cell_type": "code",
   "execution_count": 400,
   "metadata": {},
   "outputs": [
    {
     "data": {
      "text/html": [
       "<div>\n",
       "<style scoped>\n",
       "    .dataframe tbody tr th:only-of-type {\n",
       "        vertical-align: middle;\n",
       "    }\n",
       "\n",
       "    .dataframe tbody tr th {\n",
       "        vertical-align: top;\n",
       "    }\n",
       "\n",
       "    .dataframe thead th {\n",
       "        text-align: right;\n",
       "    }\n",
       "</style>\n",
       "<table border=\"1\" class=\"dataframe\">\n",
       "  <thead>\n",
       "    <tr style=\"text-align: right;\">\n",
       "      <th></th>\n",
       "      <th>Close</th>\n",
       "      <th>return</th>\n",
       "    </tr>\n",
       "    <tr>\n",
       "      <th>Date</th>\n",
       "      <th></th>\n",
       "      <th></th>\n",
       "    </tr>\n",
       "  </thead>\n",
       "  <tbody>\n",
       "    <tr>\n",
       "      <th>2006-01-03</th>\n",
       "      <td>1182.00</td>\n",
       "      <td>0.003596</td>\n",
       "    </tr>\n",
       "    <tr>\n",
       "      <th>2006-01-04</th>\n",
       "      <td>1186.25</td>\n",
       "      <td>-0.000421</td>\n",
       "    </tr>\n",
       "    <tr>\n",
       "      <th>2006-01-05</th>\n",
       "      <td>1185.75</td>\n",
       "      <td>0.010120</td>\n",
       "    </tr>\n",
       "    <tr>\n",
       "      <th>2006-01-06</th>\n",
       "      <td>1197.75</td>\n",
       "      <td>0.004174</td>\n",
       "    </tr>\n",
       "    <tr>\n",
       "      <th>2006-01-09</th>\n",
       "      <td>1202.75</td>\n",
       "      <td>-0.000416</td>\n",
       "    </tr>\n",
       "    <tr>\n",
       "      <th>...</th>\n",
       "      <td>...</td>\n",
       "      <td>...</td>\n",
       "    </tr>\n",
       "    <tr>\n",
       "      <th>2020-06-24</th>\n",
       "      <td>3040.25</td>\n",
       "      <td>0.010690</td>\n",
       "    </tr>\n",
       "    <tr>\n",
       "      <th>2020-06-25</th>\n",
       "      <td>3072.75</td>\n",
       "      <td>-0.023106</td>\n",
       "    </tr>\n",
       "    <tr>\n",
       "      <th>2020-06-26</th>\n",
       "      <td>3001.75</td>\n",
       "      <td>0.013909</td>\n",
       "    </tr>\n",
       "    <tr>\n",
       "      <th>2020-06-29</th>\n",
       "      <td>3043.50</td>\n",
       "      <td>0.013225</td>\n",
       "    </tr>\n",
       "    <tr>\n",
       "      <th>2020-06-30</th>\n",
       "      <td>3083.75</td>\n",
       "      <td>NaN</td>\n",
       "    </tr>\n",
       "  </tbody>\n",
       "</table>\n",
       "<p>3616 rows × 2 columns</p>\n",
       "</div>"
      ],
      "text/plain": [
       "              Close    return\n",
       "Date                         \n",
       "2006-01-03  1182.00  0.003596\n",
       "2006-01-04  1186.25 -0.000421\n",
       "2006-01-05  1185.75  0.010120\n",
       "2006-01-06  1197.75  0.004174\n",
       "2006-01-09  1202.75 -0.000416\n",
       "...             ...       ...\n",
       "2020-06-24  3040.25  0.010690\n",
       "2020-06-25  3072.75 -0.023106\n",
       "2020-06-26  3001.75  0.013909\n",
       "2020-06-29  3043.50  0.013225\n",
       "2020-06-30  3083.75       NaN\n",
       "\n",
       "[3616 rows x 2 columns]"
      ]
     },
     "execution_count": 400,
     "metadata": {},
     "output_type": "execute_result"
    }
   ],
   "source": [
    "es = pd.read_csv('data/spx.csv')\n",
    "es.Date = pd.to_datetime(es.Date)\n",
    "es.set_index('Date', inplace=True)\n",
    "#date_range = es['2011-12-30':'2020-5-31'].index\n",
    "\n",
    "es['return'] = np.roll(es['Close'].pct_change(),-1)\n",
    "#es['5d_ret'] = es.Close.pct_change().rolling(5).sum()\n",
    "#es['200d_ret'] = es.Close.pct_change().rolling(200).sum()\n",
    "#es = es.loc['2012-01-04':'2020-5-29']\n",
    "es"
   ]
  },
  {
   "cell_type": "code",
   "execution_count": 6,
   "metadata": {},
   "outputs": [
    {
     "data": {
      "text/html": [
       "<div>\n",
       "<style scoped>\n",
       "    .dataframe tbody tr th:only-of-type {\n",
       "        vertical-align: middle;\n",
       "    }\n",
       "\n",
       "    .dataframe tbody tr th {\n",
       "        vertical-align: top;\n",
       "    }\n",
       "\n",
       "    .dataframe thead th {\n",
       "        text-align: right;\n",
       "    }\n",
       "</style>\n",
       "<table border=\"1\" class=\"dataframe\">\n",
       "  <thead>\n",
       "    <tr style=\"text-align: right;\">\n",
       "      <th></th>\n",
       "      <th>daily_average</th>\n",
       "      <th>daily_average_fintwit</th>\n",
       "      <th>daily_average_news</th>\n",
       "      <th>daily_average_politics</th>\n",
       "      <th>daily_average_trader</th>\n",
       "      <th>topic_coherence</th>\n",
       "      <th>topic_coherence_diff</th>\n",
       "      <th>recon_ratio</th>\n",
       "    </tr>\n",
       "    <tr>\n",
       "      <th>Date</th>\n",
       "      <th></th>\n",
       "      <th></th>\n",
       "      <th></th>\n",
       "      <th></th>\n",
       "      <th></th>\n",
       "      <th></th>\n",
       "      <th></th>\n",
       "      <th></th>\n",
       "    </tr>\n",
       "  </thead>\n",
       "  <tbody>\n",
       "    <tr>\n",
       "      <th>2012-04-01</th>\n",
       "      <td>-0.266243</td>\n",
       "      <td>-0.334767</td>\n",
       "      <td>-0.166645</td>\n",
       "      <td>-0.239557</td>\n",
       "      <td>-0.336303</td>\n",
       "      <td>0.744901</td>\n",
       "      <td>0.898953</td>\n",
       "      <td>0.002581</td>\n",
       "    </tr>\n",
       "    <tr>\n",
       "      <th>2012-05-01</th>\n",
       "      <td>-0.337371</td>\n",
       "      <td>-0.384344</td>\n",
       "      <td>-0.291280</td>\n",
       "      <td>-0.243320</td>\n",
       "      <td>-0.368697</td>\n",
       "      <td>0.644985</td>\n",
       "      <td>0.845906</td>\n",
       "      <td>0.004651</td>\n",
       "    </tr>\n",
       "    <tr>\n",
       "      <th>2012-06-01</th>\n",
       "      <td>-0.325877</td>\n",
       "      <td>-0.355626</td>\n",
       "      <td>-0.321614</td>\n",
       "      <td>-0.214214</td>\n",
       "      <td>-0.354338</td>\n",
       "      <td>0.729873</td>\n",
       "      <td>0.811649</td>\n",
       "      <td>0.005132</td>\n",
       "    </tr>\n",
       "    <tr>\n",
       "      <th>2012-09-01</th>\n",
       "      <td>-0.252546</td>\n",
       "      <td>-0.257554</td>\n",
       "      <td>-0.255376</td>\n",
       "      <td>-0.235941</td>\n",
       "      <td>-0.223905</td>\n",
       "      <td>0.670430</td>\n",
       "      <td>0.847776</td>\n",
       "      <td>0.009600</td>\n",
       "    </tr>\n",
       "    <tr>\n",
       "      <th>2012-10-01</th>\n",
       "      <td>-0.302168</td>\n",
       "      <td>-0.332257</td>\n",
       "      <td>-0.267115</td>\n",
       "      <td>-0.251730</td>\n",
       "      <td>-0.336150</td>\n",
       "      <td>0.686796</td>\n",
       "      <td>0.872777</td>\n",
       "      <td>0.002024</td>\n",
       "    </tr>\n",
       "    <tr>\n",
       "      <th>...</th>\n",
       "      <td>...</td>\n",
       "      <td>...</td>\n",
       "      <td>...</td>\n",
       "      <td>...</td>\n",
       "      <td>...</td>\n",
       "      <td>...</td>\n",
       "      <td>...</td>\n",
       "      <td>...</td>\n",
       "    </tr>\n",
       "    <tr>\n",
       "      <th>2020-05-22</th>\n",
       "      <td>-0.253020</td>\n",
       "      <td>-0.252198</td>\n",
       "      <td>-0.293804</td>\n",
       "      <td>-0.203445</td>\n",
       "      <td>-0.207843</td>\n",
       "      <td>0.707392</td>\n",
       "      <td>0.917608</td>\n",
       "      <td>0.005151</td>\n",
       "    </tr>\n",
       "    <tr>\n",
       "      <th>2020-05-26</th>\n",
       "      <td>-0.207086</td>\n",
       "      <td>-0.228573</td>\n",
       "      <td>-0.227329</td>\n",
       "      <td>-0.135577</td>\n",
       "      <td>-0.183169</td>\n",
       "      <td>0.657953</td>\n",
       "      <td>0.925214</td>\n",
       "      <td>0.006251</td>\n",
       "    </tr>\n",
       "    <tr>\n",
       "      <th>2020-05-27</th>\n",
       "      <td>-0.273786</td>\n",
       "      <td>-0.289272</td>\n",
       "      <td>-0.289738</td>\n",
       "      <td>-0.199586</td>\n",
       "      <td>-0.266116</td>\n",
       "      <td>0.693526</td>\n",
       "      <td>0.922488</td>\n",
       "      <td>0.002160</td>\n",
       "    </tr>\n",
       "    <tr>\n",
       "      <th>2020-05-28</th>\n",
       "      <td>-0.297535</td>\n",
       "      <td>-0.325947</td>\n",
       "      <td>-0.313140</td>\n",
       "      <td>-0.185899</td>\n",
       "      <td>-0.288176</td>\n",
       "      <td>0.694609</td>\n",
       "      <td>0.942708</td>\n",
       "      <td>0.004359</td>\n",
       "    </tr>\n",
       "    <tr>\n",
       "      <th>2020-05-29</th>\n",
       "      <td>-0.283699</td>\n",
       "      <td>-0.295682</td>\n",
       "      <td>-0.329088</td>\n",
       "      <td>-0.195153</td>\n",
       "      <td>-0.268273</td>\n",
       "      <td>0.673605</td>\n",
       "      <td>0.878894</td>\n",
       "      <td>0.005009</td>\n",
       "    </tr>\n",
       "  </tbody>\n",
       "</table>\n",
       "<p>2094 rows × 8 columns</p>\n",
       "</div>"
      ],
      "text/plain": [
       "            daily_average  daily_average_fintwit  daily_average_news  \\\n",
       "Date                                                                   \n",
       "2012-04-01      -0.266243              -0.334767           -0.166645   \n",
       "2012-05-01      -0.337371              -0.384344           -0.291280   \n",
       "2012-06-01      -0.325877              -0.355626           -0.321614   \n",
       "2012-09-01      -0.252546              -0.257554           -0.255376   \n",
       "2012-10-01      -0.302168              -0.332257           -0.267115   \n",
       "...                   ...                    ...                 ...   \n",
       "2020-05-22      -0.253020              -0.252198           -0.293804   \n",
       "2020-05-26      -0.207086              -0.228573           -0.227329   \n",
       "2020-05-27      -0.273786              -0.289272           -0.289738   \n",
       "2020-05-28      -0.297535              -0.325947           -0.313140   \n",
       "2020-05-29      -0.283699              -0.295682           -0.329088   \n",
       "\n",
       "            daily_average_politics  daily_average_trader  topic_coherence  \\\n",
       "Date                                                                        \n",
       "2012-04-01               -0.239557             -0.336303         0.744901   \n",
       "2012-05-01               -0.243320             -0.368697         0.644985   \n",
       "2012-06-01               -0.214214             -0.354338         0.729873   \n",
       "2012-09-01               -0.235941             -0.223905         0.670430   \n",
       "2012-10-01               -0.251730             -0.336150         0.686796   \n",
       "...                            ...                   ...              ...   \n",
       "2020-05-22               -0.203445             -0.207843         0.707392   \n",
       "2020-05-26               -0.135577             -0.183169         0.657953   \n",
       "2020-05-27               -0.199586             -0.266116         0.693526   \n",
       "2020-05-28               -0.185899             -0.288176         0.694609   \n",
       "2020-05-29               -0.195153             -0.268273         0.673605   \n",
       "\n",
       "            topic_coherence_diff  recon_ratio  \n",
       "Date                                           \n",
       "2012-04-01              0.898953     0.002581  \n",
       "2012-05-01              0.845906     0.004651  \n",
       "2012-06-01              0.811649     0.005132  \n",
       "2012-09-01              0.847776     0.009600  \n",
       "2012-10-01              0.872777     0.002024  \n",
       "...                          ...          ...  \n",
       "2020-05-22              0.917608     0.005151  \n",
       "2020-05-26              0.925214     0.006251  \n",
       "2020-05-27              0.922488     0.002160  \n",
       "2020-05-28              0.942708     0.004359  \n",
       "2020-05-29              0.878894     0.005009  \n",
       "\n",
       "[2094 rows x 8 columns]"
      ]
     },
     "execution_count": 6,
     "metadata": {},
     "output_type": "execute_result"
    }
   ],
   "source": [
    "features[['daily_average', 'daily_average_fintwit', 'daily_average_news',\n",
    "       'daily_average_politics', 'daily_average_trader',\n",
    "       'topic_coherence', 'topic_coherence_diff', 'recon_ratio']]"
   ]
  },
  {
   "cell_type": "code",
   "execution_count": 314,
   "metadata": {},
   "outputs": [],
   "source": [
    "sentiment_features = pd.read_csv('data/sentiment_features.csv')\n",
    "nmf_features = pd.read_csv('data/nmf_features.csv')"
   ]
  },
  {
   "cell_type": "code",
   "execution_count": 321,
   "metadata": {},
   "outputs": [
    {
     "data": {
      "text/plain": [
       "2044   2020-03-19\n",
       "2045   2020-03-20\n",
       "2046   2020-03-23\n",
       "2047   2020-03-24\n",
       "2048   2020-03-25\n",
       "2049   2020-03-26\n",
       "2050   2020-03-27\n",
       "2051   2020-03-30\n",
       "2052   2020-03-31\n",
       "2053   2020-04-01\n",
       "2054   2020-04-02\n",
       "2055   2020-04-03\n",
       "2056   2020-04-06\n",
       "2057   2020-04-07\n",
       "2058   2020-04-08\n",
       "2059   2020-04-09\n",
       "2060   2020-04-13\n",
       "2061   2020-04-14\n",
       "2062   2020-04-15\n",
       "2063   2020-04-16\n",
       "2064   2020-04-17\n",
       "2065   2020-04-20\n",
       "2066   2020-04-21\n",
       "2067   2020-04-22\n",
       "2068   2020-04-23\n",
       "2069   2020-04-24\n",
       "2070   2020-04-27\n",
       "2071   2020-04-28\n",
       "2072   2020-04-29\n",
       "2073   2020-04-30\n",
       "2074   2020-05-01\n",
       "2075   2020-05-04\n",
       "2076   2020-05-05\n",
       "2077   2020-05-06\n",
       "2078   2020-05-07\n",
       "2079   2020-05-08\n",
       "2080   2020-05-11\n",
       "2081   2020-05-12\n",
       "2082   2020-05-13\n",
       "2083   2020-05-14\n",
       "2084   2020-05-15\n",
       "2085   2020-05-18\n",
       "2086   2020-05-19\n",
       "2087   2020-05-20\n",
       "2088   2020-05-21\n",
       "2089   2020-05-22\n",
       "2090   2020-05-26\n",
       "2091   2020-05-27\n",
       "2092   2020-05-28\n",
       "2093   2020-05-29\n",
       "Name: Date, dtype: datetime64[ns]"
      ]
     },
     "execution_count": 321,
     "metadata": {},
     "output_type": "execute_result"
    }
   ],
   "source": [
    "pd.to_datetime(nmf_features.Date[-50:], dayfirst=True)"
   ]
  },
  {
   "cell_type": "code",
   "execution_count": 443,
   "metadata": {},
   "outputs": [],
   "source": [
    "sentiment_features = pd.read_csv('data/sentiment_features.csv')\n",
    "nmf_features = pd.read_csv('data/nmf_features.csv')\n",
    "\n",
    "sentiment_features = sentiment_features.iloc[1:].reset_index(drop=True)\n",
    "features = nmf_features.copy()\n",
    "features.Date = pd.to_datetime(features.Date, dayfirst=True)\n",
    "features.set_index('Date', inplace=True)\n",
    "sentiment_features.index = features.index\n",
    "features = sentiment_features.join(features).drop(['Date'],axis=1)\n",
    "features.index = pd.to_datetime(features.index)\n",
    "features.sort_index(inplace=True)\n",
    "\n",
    "#features['5d_ret'] = es['5d_ret'][features.index]\n",
    "#features['200d_ret'] = es['200d_ret'][features.index]\n",
    "\n",
    "#features.daily_average_fintwit = features.daily_average_fintwit - features.daily_average\n",
    "#features.daily_average_news = features.daily_average_news - features.daily_average\n",
    "#features.daily_average_politics = features.daily_average_politics - features.daily_average\n",
    "#features.daily_average_trader = features.daily_average_trader - features.daily_average\n",
    "\n",
    "#features.drop(['daily_average_politics', 'recon_ratio'],axis=1, inplace=True)\n",
    "\n",
    "\n",
    "es = es.loc['2012-01-04':'2020-5-29']"
   ]
  },
  {
   "cell_type": "code",
   "execution_count": 398,
   "metadata": {},
   "outputs": [
    {
     "data": {
      "text/html": [
       "<div>\n",
       "<style scoped>\n",
       "    .dataframe tbody tr th:only-of-type {\n",
       "        vertical-align: middle;\n",
       "    }\n",
       "\n",
       "    .dataframe tbody tr th {\n",
       "        vertical-align: top;\n",
       "    }\n",
       "\n",
       "    .dataframe thead th {\n",
       "        text-align: right;\n",
       "    }\n",
       "</style>\n",
       "<table border=\"1\" class=\"dataframe\">\n",
       "  <thead>\n",
       "    <tr style=\"text-align: right;\">\n",
       "      <th></th>\n",
       "      <th>daily_average</th>\n",
       "      <th>daily_average_fintwit</th>\n",
       "      <th>daily_average_news</th>\n",
       "      <th>daily_average_trader</th>\n",
       "      <th>num_tweets</th>\n",
       "      <th>topic_coherence</th>\n",
       "      <th>topic_coherence_diff</th>\n",
       "    </tr>\n",
       "    <tr>\n",
       "      <th>Date</th>\n",
       "      <th></th>\n",
       "      <th></th>\n",
       "      <th></th>\n",
       "      <th></th>\n",
       "      <th></th>\n",
       "      <th></th>\n",
       "      <th></th>\n",
       "    </tr>\n",
       "  </thead>\n",
       "  <tbody>\n",
       "    <tr>\n",
       "      <th>2012-01-04</th>\n",
       "      <td>-0.266243</td>\n",
       "      <td>-0.068523</td>\n",
       "      <td>0.099599</td>\n",
       "      <td>-0.070060</td>\n",
       "      <td>1.000000</td>\n",
       "      <td>0.744901</td>\n",
       "      <td>0.898953</td>\n",
       "    </tr>\n",
       "    <tr>\n",
       "      <th>2012-01-05</th>\n",
       "      <td>-0.337371</td>\n",
       "      <td>-0.046973</td>\n",
       "      <td>0.046091</td>\n",
       "      <td>-0.031326</td>\n",
       "      <td>1.000000</td>\n",
       "      <td>0.644985</td>\n",
       "      <td>0.845906</td>\n",
       "    </tr>\n",
       "    <tr>\n",
       "      <th>2012-01-06</th>\n",
       "      <td>-0.325877</td>\n",
       "      <td>-0.029749</td>\n",
       "      <td>0.004263</td>\n",
       "      <td>-0.028461</td>\n",
       "      <td>1.000000</td>\n",
       "      <td>0.729873</td>\n",
       "      <td>0.811649</td>\n",
       "    </tr>\n",
       "    <tr>\n",
       "      <th>2012-01-09</th>\n",
       "      <td>-0.252546</td>\n",
       "      <td>-0.005009</td>\n",
       "      <td>-0.002830</td>\n",
       "      <td>0.028641</td>\n",
       "      <td>1.000000</td>\n",
       "      <td>0.670430</td>\n",
       "      <td>0.847776</td>\n",
       "    </tr>\n",
       "    <tr>\n",
       "      <th>2012-01-10</th>\n",
       "      <td>-0.302168</td>\n",
       "      <td>-0.030089</td>\n",
       "      <td>0.035053</td>\n",
       "      <td>-0.033982</td>\n",
       "      <td>1.000000</td>\n",
       "      <td>0.686796</td>\n",
       "      <td>0.872777</td>\n",
       "    </tr>\n",
       "    <tr>\n",
       "      <th>...</th>\n",
       "      <td>...</td>\n",
       "      <td>...</td>\n",
       "      <td>...</td>\n",
       "      <td>...</td>\n",
       "      <td>...</td>\n",
       "      <td>...</td>\n",
       "      <td>...</td>\n",
       "    </tr>\n",
       "    <tr>\n",
       "      <th>2020-05-22</th>\n",
       "      <td>-0.253020</td>\n",
       "      <td>0.000822</td>\n",
       "      <td>-0.040784</td>\n",
       "      <td>0.045177</td>\n",
       "      <td>1.050272</td>\n",
       "      <td>0.707392</td>\n",
       "      <td>0.917608</td>\n",
       "    </tr>\n",
       "    <tr>\n",
       "      <th>2020-05-26</th>\n",
       "      <td>-0.207086</td>\n",
       "      <td>-0.021487</td>\n",
       "      <td>-0.020243</td>\n",
       "      <td>0.023917</td>\n",
       "      <td>1.139891</td>\n",
       "      <td>0.657953</td>\n",
       "      <td>0.925214</td>\n",
       "    </tr>\n",
       "    <tr>\n",
       "      <th>2020-05-27</th>\n",
       "      <td>-0.273786</td>\n",
       "      <td>-0.015486</td>\n",
       "      <td>-0.015952</td>\n",
       "      <td>0.007669</td>\n",
       "      <td>1.020055</td>\n",
       "      <td>0.693526</td>\n",
       "      <td>0.922488</td>\n",
       "    </tr>\n",
       "    <tr>\n",
       "      <th>2020-05-28</th>\n",
       "      <td>-0.297535</td>\n",
       "      <td>-0.028412</td>\n",
       "      <td>-0.015605</td>\n",
       "      <td>0.009359</td>\n",
       "      <td>1.076684</td>\n",
       "      <td>0.694609</td>\n",
       "      <td>0.942708</td>\n",
       "    </tr>\n",
       "    <tr>\n",
       "      <th>2020-05-29</th>\n",
       "      <td>-0.283699</td>\n",
       "      <td>-0.011983</td>\n",
       "      <td>-0.045389</td>\n",
       "      <td>0.015426</td>\n",
       "      <td>1.093433</td>\n",
       "      <td>0.673605</td>\n",
       "      <td>0.878894</td>\n",
       "    </tr>\n",
       "  </tbody>\n",
       "</table>\n",
       "<p>2094 rows × 7 columns</p>\n",
       "</div>"
      ],
      "text/plain": [
       "            daily_average  daily_average_fintwit  daily_average_news  \\\n",
       "Date                                                                   \n",
       "2012-01-04      -0.266243              -0.068523            0.099599   \n",
       "2012-01-05      -0.337371              -0.046973            0.046091   \n",
       "2012-01-06      -0.325877              -0.029749            0.004263   \n",
       "2012-01-09      -0.252546              -0.005009           -0.002830   \n",
       "2012-01-10      -0.302168              -0.030089            0.035053   \n",
       "...                   ...                    ...                 ...   \n",
       "2020-05-22      -0.253020               0.000822           -0.040784   \n",
       "2020-05-26      -0.207086              -0.021487           -0.020243   \n",
       "2020-05-27      -0.273786              -0.015486           -0.015952   \n",
       "2020-05-28      -0.297535              -0.028412           -0.015605   \n",
       "2020-05-29      -0.283699              -0.011983           -0.045389   \n",
       "\n",
       "            daily_average_trader  num_tweets  topic_coherence  \\\n",
       "Date                                                            \n",
       "2012-01-04             -0.070060    1.000000         0.744901   \n",
       "2012-01-05             -0.031326    1.000000         0.644985   \n",
       "2012-01-06             -0.028461    1.000000         0.729873   \n",
       "2012-01-09              0.028641    1.000000         0.670430   \n",
       "2012-01-10             -0.033982    1.000000         0.686796   \n",
       "...                          ...         ...              ...   \n",
       "2020-05-22              0.045177    1.050272         0.707392   \n",
       "2020-05-26              0.023917    1.139891         0.657953   \n",
       "2020-05-27              0.007669    1.020055         0.693526   \n",
       "2020-05-28              0.009359    1.076684         0.694609   \n",
       "2020-05-29              0.015426    1.093433         0.673605   \n",
       "\n",
       "            topic_coherence_diff  \n",
       "Date                              \n",
       "2012-01-04              0.898953  \n",
       "2012-01-05              0.845906  \n",
       "2012-01-06              0.811649  \n",
       "2012-01-09              0.847776  \n",
       "2012-01-10              0.872777  \n",
       "...                          ...  \n",
       "2020-05-22              0.917608  \n",
       "2020-05-26              0.925214  \n",
       "2020-05-27              0.922488  \n",
       "2020-05-28              0.942708  \n",
       "2020-05-29              0.878894  \n",
       "\n",
       "[2094 rows x 7 columns]"
      ]
     },
     "execution_count": 398,
     "metadata": {},
     "output_type": "execute_result"
    }
   ],
   "source": [
    "features"
   ]
  },
  {
   "cell_type": "code",
   "execution_count": 444,
   "metadata": {},
   "outputs": [],
   "source": [
    "\n",
    "\n",
    "#features.daily_average_fintwit = features.daily_average_fintwit - features.daily_average\n",
    "#features.daily_average_trader = features.daily_average_trader - features.daily_average_fintwit\n",
    "\n",
    "date = '2018-12-31'\n",
    "\n",
    "\n",
    "es_class = 1*(es['return'] >0)\n",
    "\n",
    "X = features[:date]\n",
    "y = es_class[:date]"
   ]
  },
  {
   "cell_type": "code",
   "execution_count": 403,
   "metadata": {},
   "outputs": [],
   "source": [
    "tscv= TimeSeriesSplit(n_splits=5)\n",
    "\n",
    "logloss = pd.DataFrame(index = range(6,21), columns=['rf', 'boost'])\n",
    "rocauc = pd.DataFrame(index = range(6,21), columns=['rf', 'boost'])\n",
    "\n",
    "for max_depth in range(6,21):\n",
    "    rf_logloss = []\n",
    "    boost_logloss = []\n",
    "    \n",
    "    rf_rocauc = []\n",
    "    boost_rocauc = []\n",
    "    for train_index, test_index in tscv.split(X):\n",
    "        X_train, X_test = X.iloc[train_index], X.iloc[test_index]\n",
    "        y_train, y_test = y.iloc[train_index], y.iloc[test_index]\n",
    "        \n",
    "        clf = RandomForestClassifier(max_depth=max_depth, criterion='entropy', random_state=42)\n",
    "        clf.fit(X_train, y_train)\n",
    "        rf_logloss.append(log_loss(clf.predict(X_test), y_test))\n",
    "        rf_rocauc.append(roc_auc_score(clf.predict(X_test), y_test))\n",
    "         \n",
    "        clf = GradientBoostingClassifier(max_depth=max_depth, random_state=42)\n",
    "        clf.fit(X_train, y_train)\n",
    "        boost_logloss.append(log_loss(clf.predict(X_test), y_test))\n",
    "        boost_rocauc.append(roc_auc_score(clf.predict(X_test), y_test))\n",
    "        \n",
    "    logloss.loc[max_depth, 'rf'] = np.mean(rf_logloss)\n",
    "    logloss.loc[max_depth, 'boost'] = np.mean(boost_logloss)\n",
    "    \n",
    "            \n",
    "    rocauc.loc[max_depth, 'rf'] = np.mean(rf_rocauc)\n",
    "    rocauc.loc[max_depth, 'boost'] = np.mean(boost_rocauc)"
   ]
  },
  {
   "cell_type": "code",
   "execution_count": 404,
   "metadata": {},
   "outputs": [
    {
     "data": {
      "text/html": [
       "<div>\n",
       "<style scoped>\n",
       "    .dataframe tbody tr th:only-of-type {\n",
       "        vertical-align: middle;\n",
       "    }\n",
       "\n",
       "    .dataframe tbody tr th {\n",
       "        vertical-align: top;\n",
       "    }\n",
       "\n",
       "    .dataframe thead th {\n",
       "        text-align: right;\n",
       "    }\n",
       "</style>\n",
       "<table border=\"1\" class=\"dataframe\">\n",
       "  <thead>\n",
       "    <tr style=\"text-align: right;\">\n",
       "      <th></th>\n",
       "      <th>rf</th>\n",
       "      <th>boost</th>\n",
       "    </tr>\n",
       "  </thead>\n",
       "  <tbody>\n",
       "    <tr>\n",
       "      <th>6</th>\n",
       "      <td>16.4358</td>\n",
       "      <td>16.8884</td>\n",
       "    </tr>\n",
       "    <tr>\n",
       "      <th>7</th>\n",
       "      <td>16.4596</td>\n",
       "      <td>17.079</td>\n",
       "    </tr>\n",
       "    <tr>\n",
       "      <th>8</th>\n",
       "      <td>16.412</td>\n",
       "      <td>16.9599</td>\n",
       "    </tr>\n",
       "    <tr>\n",
       "      <th>9</th>\n",
       "      <td>16.6978</td>\n",
       "      <td>16.3644</td>\n",
       "    </tr>\n",
       "    <tr>\n",
       "      <th>10</th>\n",
       "      <td>16.5072</td>\n",
       "      <td>17.1028</td>\n",
       "    </tr>\n",
       "    <tr>\n",
       "      <th>11</th>\n",
       "      <td>16.7931</td>\n",
       "      <td>17.0313</td>\n",
       "    </tr>\n",
       "    <tr>\n",
       "      <th>12</th>\n",
       "      <td>16.5787</td>\n",
       "      <td>17.1504</td>\n",
       "    </tr>\n",
       "    <tr>\n",
       "      <th>13</th>\n",
       "      <td>17.0789</td>\n",
       "      <td>17.2696</td>\n",
       "    </tr>\n",
       "    <tr>\n",
       "      <th>14</th>\n",
       "      <td>16.412</td>\n",
       "      <td>17.4601</td>\n",
       "    </tr>\n",
       "    <tr>\n",
       "      <th>15</th>\n",
       "      <td>16.3882</td>\n",
       "      <td>17.1505</td>\n",
       "    </tr>\n",
       "    <tr>\n",
       "      <th>16</th>\n",
       "      <td>16.5787</td>\n",
       "      <td>17.079</td>\n",
       "    </tr>\n",
       "    <tr>\n",
       "      <th>17</th>\n",
       "      <td>16.4834</td>\n",
       "      <td>17.6983</td>\n",
       "    </tr>\n",
       "    <tr>\n",
       "      <th>18</th>\n",
       "      <td>16.6978</td>\n",
       "      <td>17.079</td>\n",
       "    </tr>\n",
       "    <tr>\n",
       "      <th>19</th>\n",
       "      <td>16.7217</td>\n",
       "      <td>17.9604</td>\n",
       "    </tr>\n",
       "    <tr>\n",
       "      <th>20</th>\n",
       "      <td>16.5073</td>\n",
       "      <td>17.3887</td>\n",
       "    </tr>\n",
       "  </tbody>\n",
       "</table>\n",
       "</div>"
      ],
      "text/plain": [
       "         rf    boost\n",
       "6   16.4358  16.8884\n",
       "7   16.4596   17.079\n",
       "8    16.412  16.9599\n",
       "9   16.6978  16.3644\n",
       "10  16.5072  17.1028\n",
       "11  16.7931  17.0313\n",
       "12  16.5787  17.1504\n",
       "13  17.0789  17.2696\n",
       "14   16.412  17.4601\n",
       "15  16.3882  17.1505\n",
       "16  16.5787   17.079\n",
       "17  16.4834  17.6983\n",
       "18  16.6978   17.079\n",
       "19  16.7217  17.9604\n",
       "20  16.5073  17.3887"
      ]
     },
     "execution_count": 404,
     "metadata": {},
     "output_type": "execute_result"
    }
   ],
   "source": [
    "logloss"
   ]
  },
  {
   "cell_type": "code",
   "execution_count": 350,
   "metadata": {},
   "outputs": [
    {
     "data": {
      "text/html": [
       "<div>\n",
       "<style scoped>\n",
       "    .dataframe tbody tr th:only-of-type {\n",
       "        vertical-align: middle;\n",
       "    }\n",
       "\n",
       "    .dataframe tbody tr th {\n",
       "        vertical-align: top;\n",
       "    }\n",
       "\n",
       "    .dataframe thead th {\n",
       "        text-align: right;\n",
       "    }\n",
       "</style>\n",
       "<table border=\"1\" class=\"dataframe\">\n",
       "  <thead>\n",
       "    <tr style=\"text-align: right;\">\n",
       "      <th></th>\n",
       "      <th>rf</th>\n",
       "      <th>boost</th>\n",
       "    </tr>\n",
       "  </thead>\n",
       "  <tbody>\n",
       "    <tr>\n",
       "      <th>6</th>\n",
       "      <td>0.507993</td>\n",
       "      <td>0.498805</td>\n",
       "    </tr>\n",
       "    <tr>\n",
       "      <th>7</th>\n",
       "      <td>0.514078</td>\n",
       "      <td>0.50142</td>\n",
       "    </tr>\n",
       "    <tr>\n",
       "      <th>8</th>\n",
       "      <td>0.504645</td>\n",
       "      <td>0.494904</td>\n",
       "    </tr>\n",
       "    <tr>\n",
       "      <th>9</th>\n",
       "      <td>0.49818</td>\n",
       "      <td>0.51637</td>\n",
       "    </tr>\n",
       "    <tr>\n",
       "      <th>10</th>\n",
       "      <td>0.49714</td>\n",
       "      <td>0.521124</td>\n",
       "    </tr>\n",
       "    <tr>\n",
       "      <th>11</th>\n",
       "      <td>0.498941</td>\n",
       "      <td>0.513581</td>\n",
       "    </tr>\n",
       "    <tr>\n",
       "      <th>12</th>\n",
       "      <td>0.492397</td>\n",
       "      <td>0.479643</td>\n",
       "    </tr>\n",
       "    <tr>\n",
       "      <th>13</th>\n",
       "      <td>0.492695</td>\n",
       "      <td>0.500377</td>\n",
       "    </tr>\n",
       "    <tr>\n",
       "      <th>14</th>\n",
       "      <td>0.495386</td>\n",
       "      <td>0.492465</td>\n",
       "    </tr>\n",
       "    <tr>\n",
       "      <th>15</th>\n",
       "      <td>0.475952</td>\n",
       "      <td>0.511197</td>\n",
       "    </tr>\n",
       "    <tr>\n",
       "      <th>16</th>\n",
       "      <td>0.497413</td>\n",
       "      <td>0.45731</td>\n",
       "    </tr>\n",
       "    <tr>\n",
       "      <th>17</th>\n",
       "      <td>0.497762</td>\n",
       "      <td>0.483892</td>\n",
       "    </tr>\n",
       "    <tr>\n",
       "      <th>18</th>\n",
       "      <td>0.492551</td>\n",
       "      <td>0.491596</td>\n",
       "    </tr>\n",
       "    <tr>\n",
       "      <th>19</th>\n",
       "      <td>0.500177</td>\n",
       "      <td>0.478068</td>\n",
       "    </tr>\n",
       "    <tr>\n",
       "      <th>20</th>\n",
       "      <td>0.506289</td>\n",
       "      <td>0.489272</td>\n",
       "    </tr>\n",
       "  </tbody>\n",
       "</table>\n",
       "</div>"
      ],
      "text/plain": [
       "          rf     boost\n",
       "6   0.507993  0.498805\n",
       "7   0.514078   0.50142\n",
       "8   0.504645  0.494904\n",
       "9    0.49818   0.51637\n",
       "10   0.49714  0.521124\n",
       "11  0.498941  0.513581\n",
       "12  0.492397  0.479643\n",
       "13  0.492695  0.500377\n",
       "14  0.495386  0.492465\n",
       "15  0.475952  0.511197\n",
       "16  0.497413   0.45731\n",
       "17  0.497762  0.483892\n",
       "18  0.492551  0.491596\n",
       "19  0.500177  0.478068\n",
       "20  0.506289  0.489272"
      ]
     },
     "execution_count": 350,
     "metadata": {},
     "output_type": "execute_result"
    }
   ],
   "source": [
    "rocauc"
   ]
  },
  {
   "cell_type": "code",
   "execution_count": 445,
   "metadata": {},
   "outputs": [
    {
     "data": {
      "text/plain": [
       "1.496997241276337"
      ]
     },
     "execution_count": 445,
     "metadata": {},
     "output_type": "execute_result"
    }
   ],
   "source": [
    "date = '2018-12-31'\n",
    "\n",
    "X_train = features[:date]\n",
    "X_test = features[date:]\n",
    "\n",
    "y = 1*(es['return'] >0)\n",
    "\n",
    "y_train = y[:date]\n",
    "y_test = y[date:]\n",
    "\n",
    "clf = RandomForestClassifier(max_depth=15, random_state=42)\n",
    "clf.fit(X_train, y_train)\n",
    "clf.score(X_test, y_test)\n",
    "\n",
    "\n",
    "sharpe_ratio(clf.predict(X_test), es['return'][date:])"
   ]
  },
  {
   "cell_type": "code",
   "execution_count": 448,
   "metadata": {},
   "outputs": [
    {
     "data": {
      "text/plain": [
       "Index(['daily_average', 'daily_average_fintwit', 'daily_average_news',\n",
       "       'daily_average_politics', 'daily_average_trader', 'num_tweets',\n",
       "       'topic_coherence', 'topic_coherence_diff', 'recon_ratio'],\n",
       "      dtype='object')"
      ]
     },
     "execution_count": 448,
     "metadata": {},
     "output_type": "execute_result"
    }
   ],
   "source": [
    "X_train.columns"
   ]
  },
  {
   "cell_type": "code",
   "execution_count": 484,
   "metadata": {},
   "outputs": [
    {
     "data": {
      "text/html": [
       "<div>\n",
       "<style scoped>\n",
       "    .dataframe tbody tr th:only-of-type {\n",
       "        vertical-align: middle;\n",
       "    }\n",
       "\n",
       "    .dataframe tbody tr th {\n",
       "        vertical-align: top;\n",
       "    }\n",
       "\n",
       "    .dataframe thead th {\n",
       "        text-align: right;\n",
       "    }\n",
       "</style>\n",
       "<table border=\"1\" class=\"dataframe\">\n",
       "  <thead>\n",
       "    <tr style=\"text-align: right;\">\n",
       "      <th></th>\n",
       "      <th>feature_importances</th>\n",
       "    </tr>\n",
       "  </thead>\n",
       "  <tbody>\n",
       "    <tr>\n",
       "      <th>daily_average</th>\n",
       "      <td>0.106329</td>\n",
       "    </tr>\n",
       "    <tr>\n",
       "      <th>daily_average_fintwit</th>\n",
       "      <td>0.104453</td>\n",
       "    </tr>\n",
       "    <tr>\n",
       "      <th>daily_average_news</th>\n",
       "      <td>0.113299</td>\n",
       "    </tr>\n",
       "    <tr>\n",
       "      <th>daily_average_trader</th>\n",
       "      <td>0.106285</td>\n",
       "    </tr>\n",
       "    <tr>\n",
       "      <th>num_tweets</th>\n",
       "      <td>0.108552</td>\n",
       "    </tr>\n",
       "    <tr>\n",
       "      <th>topic_coherence</th>\n",
       "      <td>0.125383</td>\n",
       "    </tr>\n",
       "    <tr>\n",
       "      <th>topic_coherence_diff</th>\n",
       "      <td>0.114687</td>\n",
       "    </tr>\n",
       "    <tr>\n",
       "      <th>recon_ratio</th>\n",
       "      <td>0.110767</td>\n",
       "    </tr>\n",
       "  </tbody>\n",
       "</table>\n",
       "</div>"
      ],
      "text/plain": [
       "                       feature_importances\n",
       "daily_average                     0.106329\n",
       "daily_average_fintwit             0.104453\n",
       "daily_average_news                0.113299\n",
       "daily_average_trader              0.106285\n",
       "num_tweets                        0.108552\n",
       "topic_coherence                   0.125383\n",
       "topic_coherence_diff              0.114687\n",
       "recon_ratio                       0.110767"
      ]
     },
     "execution_count": 484,
     "metadata": {},
     "output_type": "execute_result"
    }
   ],
   "source": [
    "CCC.loc[['daily_average', 'daily_average_fintwit', 'daily_average_news',\n",
    "        'daily_average_trader', 'num_tweets',\n",
    "       'topic_coherence', 'topic_coherence_diff', 'recon_ratio']]"
   ]
  },
  {
   "cell_type": "code",
   "execution_count": 486,
   "metadata": {},
   "outputs": [
    {
     "data": {
      "text/plain": [
       "<matplotlib.axes._subplots.AxesSubplot at 0x7f8c8024b090>"
      ]
     },
     "execution_count": 486,
     "metadata": {},
     "output_type": "execute_result"
    },
    {
     "data": {
      "image/png": "[encoded data removed]",
      "text/plain": [
       "<Figure size 720x360 with 1 Axes>"
      ]
     },
     "metadata": {},
     "output_type": "display_data"
    }
   ],
   "source": [
    "CCC = pd.DataFrame(columns=['feature_importances'], index = X_train.columns)\n",
    "CCC['feature_importances'] = clf.feature_importances_\n",
    "#CCC.plot.barh(figsize=(10,5), legend=False, title=\"Feature Importance\")\n",
    "CCC.loc[['daily_average', 'daily_average_fintwit', 'daily_average_news',\n",
    "        'daily_average_trader', 'num_tweets',\n",
    "       'topic_coherence', 'topic_coherence_diff', 'recon_ratio']].plot.barh(figsize=(10,5), legend=False, title=\"Feature Importance\")"
   ]
  },
  {
   "cell_type": "code",
   "execution_count": 458,
   "metadata": {},
   "outputs": [
    {
     "name": "stdout",
     "output_type": "stream",
     "text": [
      "Collecting seaborn\n",
      "  Downloading seaborn-0.10.1-py3-none-any.whl (215 kB)\n",
      "\u001b[K     |████████████████████████████████| 215 kB 3.1 MB/s eta 0:00:01\n",
      "\u001b[?25hRequirement already satisfied: pandas>=0.22.0 in /Users/lalopey/opt/anaconda3/envs/nlp/lib/python3.7/site-packages (from seaborn) (1.0.5)\n",
      "Requirement already satisfied: numpy>=1.13.3 in /Users/lalopey/opt/anaconda3/envs/nlp/lib/python3.7/site-packages (from seaborn) (1.19.0)\n",
      "Requirement already satisfied: matplotlib>=2.1.2 in /Users/lalopey/opt/anaconda3/envs/nlp/lib/python3.7/site-packages (from seaborn) (3.2.2)\n",
      "Requirement already satisfied: scipy>=1.0.1 in /Users/lalopey/opt/anaconda3/envs/nlp/lib/python3.7/site-packages (from seaborn) (1.5.0)\n",
      "Requirement already satisfied: python-dateutil>=2.6.1 in /Users/lalopey/opt/anaconda3/envs/nlp/lib/python3.7/site-packages (from pandas>=0.22.0->seaborn) (2.8.1)\n",
      "Requirement already satisfied: pytz>=2017.2 in /Users/lalopey/opt/anaconda3/envs/nlp/lib/python3.7/site-packages (from pandas>=0.22.0->seaborn) (2020.1)\n",
      "Requirement already satisfied: cycler>=0.10 in /Users/lalopey/opt/anaconda3/envs/nlp/lib/python3.7/site-packages (from matplotlib>=2.1.2->seaborn) (0.10.0)\n",
      "Requirement already satisfied: pyparsing!=2.0.4,!=2.1.2,!=2.1.6,>=2.0.1 in /Users/lalopey/opt/anaconda3/envs/nlp/lib/python3.7/site-packages (from matplotlib>=2.1.2->seaborn) (2.4.7)\n",
      "Requirement already satisfied: kiwisolver>=1.0.1 in /Users/lalopey/opt/anaconda3/envs/nlp/lib/python3.7/site-packages (from matplotlib>=2.1.2->seaborn) (1.2.0)\n",
      "Requirement already satisfied: six>=1.5 in /Users/lalopey/opt/anaconda3/envs/nlp/lib/python3.7/site-packages (from python-dateutil>=2.6.1->pandas>=0.22.0->seaborn) (1.15.0)\n",
      "Installing collected packages: seaborn\n",
      "Successfully installed seaborn-0.10.1\n"
     ]
    }
   ],
   "source": [
    "!pip install seaborn"
   ]
  },
  {
   "cell_type": "code",
   "execution_count": 473,
   "metadata": {},
   "outputs": [
    {
     "data": {
      "image/png": "[encoded data removed]",
      "text/plain": [
       "<Figure size 1080x432 with 1 Axes>"
      ]
     },
     "metadata": {},
     "output_type": "display_data"
    }
   ],
   "source": [
    "import seaborn as sns\n",
    "import matplotlib.pyplot as plt\n",
    "sns.set(style=\"whitegrid\")\n",
    "\n",
    "# Initialize the matplotlib figure\n",
    "f, ax = plt.subplots(figsize=(15, 6))\n",
    "\n",
    "\n",
    "# Plot the total crashes\n",
    "sns.set_color_codes(\"pastel\")\n",
    "sns.barplot(data=CCC, label=\"Total\", color=\"b\")\n",
    "\n",
    "# Add a legend and informative axis label\n",
    "ax.legend(ncol=2, loc=\"lower right\", frameon=True)\n",
    "ax.set(xlim=(0, 24), ylabel=\"\",\n",
    "       xlabel=\"Automobile collisions per billion miles\")\n",
    "sns.despine(left=True, bottom=True)"
   ]
  },
  {
   "cell_type": "code",
   "execution_count": 406,
   "metadata": {},
   "outputs": [
    {
     "data": {
      "text/plain": [
       "0.7976151444248708"
      ]
     },
     "execution_count": 406,
     "metadata": {},
     "output_type": "execute_result"
    }
   ],
   "source": [
    "clf = GradientBoostingClassifier(max_depth=9, random_state=42)\n",
    "clf.fit(X_train, y_train)\n",
    "clf.feature_importances_\n",
    "\n",
    "sharpe_ratio(clf.predict(X_test), es['return'][date:])"
   ]
  },
  {
   "cell_type": "code",
   "execution_count": 201,
   "metadata": {},
   "outputs": [
    {
     "data": {
      "text/plain": [
       "[<matplotlib.lines.Line2D at 0x7f9dc83ea990>]"
      ]
     },
     "execution_count": 201,
     "metadata": {},
     "output_type": "execute_result"
    },
    {
     "data": {
      "image/png": "[encoded data removed]",
      "text/plain": [
       "<Figure size 432x288 with 1 Axes>"
      ]
     },
     "metadata": {
      "needs_background": "light"
     },
     "output_type": "display_data"
    }
   ],
   "source": [
    "scores = []\n",
    "f1scores = []\n",
    "roc = []\n",
    "\n",
    "for i in range(2,25):\n",
    "    clf = RandomForestClassifier(max_depth=i, random_state=0)\n",
    "    clf.fit(X_train, y_train)\n",
    "    scores.append(clf.score(X_test, y_test))\n",
    "    f1scores.append(f1_score(clf.predict(X_test),y_test))\n",
    "    roc.append(roc_auc_score(clf.predict(X_test),y_test))\n",
    "\n",
    "plt.plot(range(2,25),roc)"
   ]
  },
  {
   "cell_type": "code",
   "execution_count": 203,
   "metadata": {},
   "outputs": [
    {
     "data": {
      "text/plain": [
       "[<matplotlib.lines.Line2D at 0x7f9d8827d150>]"
      ]
     },
     "execution_count": 203,
     "metadata": {},
     "output_type": "execute_result"
    },
    {
     "data": {
      "image/png": "[encoded data removed]",
      "text/plain": [
       "<Figure size 432x288 with 1 Axes>"
      ]
     },
     "metadata": {
      "needs_background": "light"
     },
     "output_type": "display_data"
    }
   ],
   "source": [
    "plt.plot(range(2,25),scores)"
   ]
  },
  {
   "cell_type": "code",
   "execution_count": 63,
   "metadata": {},
   "outputs": [
    {
     "data": {
      "text/plain": [
       "0.25664124264489846"
      ]
     },
     "execution_count": 63,
     "metadata": {},
     "output_type": "execute_result"
    }
   ],
   "source": [
    "clf = GradientBoostingClassifier(max_depth=10, random_state=42)\n",
    "clf.fit(X_train, y_train)\n",
    "clf.feature_importances_\n",
    "\n",
    "sharpe_ratio(clf.predict(X_test), es['return'][date:])"
   ]
  },
  {
   "cell_type": "code",
   "execution_count": 277,
   "metadata": {},
   "outputs": [
    {
     "data": {
      "text/plain": [
       "array([1, 1, 1, 1, 1, 1, 1, 1, 1, 0, 1, 1, 1, 1, 1, 1, 1, 1, 1, 1, 1, 1,\n",
       "       1, 1, 1, 1, 1, 1, 1, 1, 1, 1, 1, 1, 1, 1, 1, 1, 1, 0, 1, 1, 1, 1,\n",
       "       1, 1, 1, 0, 1, 1, 1, 1, 1, 1, 1, 1, 1, 1, 1, 0, 1, 1, 1, 0, 1, 1,\n",
       "       1, 1, 1, 1, 1, 1, 0, 0, 0, 0, 0, 1, 1, 1, 0, 1, 1, 1, 1, 1, 1, 1,\n",
       "       1, 1, 1, 1, 1, 1, 1, 1, 1, 1, 1, 1, 1, 1, 1, 1, 1, 1, 1, 1, 1, 1,\n",
       "       1, 1, 1, 1, 1, 0, 1, 1, 1, 1, 1, 1, 1, 1, 1, 1, 0, 1, 1, 0, 1, 1,\n",
       "       1, 1, 1, 1, 0, 1, 1, 0, 1, 1, 1, 1, 1, 1, 1, 1, 1, 1, 1, 1, 1, 0,\n",
       "       0, 1, 1, 1, 1, 1, 1, 1, 1, 1, 1, 1, 1, 1, 1, 1, 1, 1, 1, 1, 1, 1,\n",
       "       1, 1, 1, 1, 1, 1, 1, 1, 1, 1, 1, 1, 1, 1, 1, 1, 0, 1, 1, 1, 1, 1,\n",
       "       1, 1, 1, 1, 0, 1, 1, 1, 1, 0, 1, 1, 1, 1, 1, 1, 1, 1, 0, 0, 1, 1,\n",
       "       1, 1, 0, 0, 1, 1, 1, 1, 1, 0, 0, 0, 1, 1, 1, 0, 1, 1, 1, 1, 1, 1,\n",
       "       1, 1, 1, 0, 0, 0, 0, 0, 0, 1, 0, 1, 1, 1, 1, 0, 1, 1, 1, 1, 0, 1,\n",
       "       1, 1, 1, 1, 1, 1, 1, 1, 1, 1, 1, 1, 0, 1, 1, 1, 1, 1, 1, 1, 1, 1,\n",
       "       1, 1, 1, 1, 1, 1, 1, 1, 1, 0, 1, 1, 0, 0, 0, 0, 0, 0, 0, 0, 0, 0,\n",
       "       0, 1, 0, 0, 1, 0, 1, 0, 0, 1, 1, 0, 0, 1, 1, 1, 0, 0, 1, 1, 0, 0,\n",
       "       1, 1, 1, 0, 0, 1, 1, 1, 0, 0, 1, 1, 1, 1, 0, 0, 1, 1, 0, 1, 0, 1,\n",
       "       1])"
      ]
     },
     "execution_count": 277,
     "metadata": {},
     "output_type": "execute_result"
    }
   ],
   "source": [
    "clf.predict(X_test)"
   ]
  },
  {
   "cell_type": "code",
   "execution_count": 331,
   "metadata": {},
   "outputs": [
    {
     "data": {
      "text/plain": [
       "0.6295221225435782"
      ]
     },
     "execution_count": 331,
     "metadata": {},
     "output_type": "execute_result"
    }
   ],
   "source": [
    "np.sqrt(252) * es['return'][date:].mean()/es['return'][date:].std()"
   ]
  },
  {
   "cell_type": "code",
   "execution_count": 27,
   "metadata": {},
   "outputs": [
    {
     "data": {
      "text/plain": [
       "0.7492638240701683"
      ]
     },
     "execution_count": 27,
     "metadata": {},
     "output_type": "execute_result"
    }
   ],
   "source": [
    "sharpe_ratio(clf.predict(X_test), es['return'][date:])"
   ]
  },
  {
   "cell_type": "code",
   "execution_count": 332,
   "metadata": {},
   "outputs": [
    {
     "data": {
      "text/plain": [
       "1.256383235658911"
      ]
     },
     "execution_count": 332,
     "metadata": {},
     "output_type": "execute_result"
    }
   ],
   "source": [
    "np.sqrt(252) *(clf.predict(X_test) * es['return'][date:]).mean()/(clf.predict(X_test) * es['return'][date:]).std()"
   ]
  },
  {
   "cell_type": "code",
   "execution_count": 333,
   "metadata": {},
   "outputs": [
    {
     "data": {
      "text/plain": [
       "1.3392198484129394"
      ]
     },
     "execution_count": 333,
     "metadata": {},
     "output_type": "execute_result"
    }
   ],
   "source": [
    "np.sqrt(252) *((2*clf.predict(X_test)-1) * es['return'][date:]).mean()/((2*clf.predict(X_test)-1)  * es['return'][date:]).std()"
   ]
  },
  {
   "cell_type": "code",
   "execution_count": 17,
   "metadata": {},
   "outputs": [],
   "source": [
    "def sharpe_ratio(pos, ret):\n",
    "    return np.sqrt(252) * ( pos * ret ).mean() / ( pos * ret ).std()"
   ]
  },
  {
   "cell_type": "code",
   "execution_count": 407,
   "metadata": {},
   "outputs": [
    {
     "name": "stdout",
     "output_type": "stream",
     "text": [
      "0.809364038630355\n",
      "0.5950861248148769\n"
     ]
    },
    {
     "data": {
      "text/plain": [
       "0.6909599556600211"
      ]
     },
     "execution_count": 407,
     "metadata": {},
     "output_type": "execute_result"
    }
   ],
   "source": [
    "rf_sharpe = []\n",
    "rf_short_sharpe = []\n",
    "boost_sharpe = []\n",
    "boost_short_sharpe = []\n",
    "es_sharpe = []\n",
    "rf_pos = []\n",
    "boost_pos = []\n",
    "rf_pos_short = []\n",
    "boost_pos_short = []\n",
    "\n",
    "rf_position = []\n",
    "boost_position = []\n",
    "\n",
    "X = features[:date]\n",
    "y = es_class[:date]\n",
    "\n",
    "for train_index, test_index in tscv.split(X):\n",
    "    X_train, X_test = X.iloc[train_index], X.iloc[test_index]\n",
    "    y_train, y_test = y.iloc[train_index], y.iloc[test_index]\n",
    "    \n",
    "    es_sharpe.append(sharpe_ratio(1,es['return'][test_index]))\n",
    "    \n",
    "\n",
    "    clf = RandomForestClassifier(max_depth=15, criterion='entropy',random_state= 42)\n",
    "    clf.fit(X_train, y_train)\n",
    "    rf_sharpe.append(sharpe_ratio(clf.predict(X_test), es['return'][test_index]))\n",
    "    #rf_short_sharpe.append(sharpe_ratio(2 * clf.predict(X_test) - 1, es['return'][test_index]))\n",
    "    rf_pos_short.append((2 * clf.predict(X_test) - 1)*es['return'][test_index])\n",
    "    rf_pos.append(clf.predict(X_test)*es['return'][test_index])\n",
    "    rf_position.append(clf.predict(X_test))\n",
    "    \n",
    "    clf = GradientBoostingClassifier(max_depth=9,random_state= 42)\n",
    "    clf.fit(X_train, y_train)\n",
    "    boost_sharpe.append(sharpe_ratio(clf.predict(X_test), es['return'][test_index]))\n",
    "    boost_pos.append(clf.predict(X_test)*es['return'][test_index])\n",
    "    boost_position.append(clf.predict(X_test))\n",
    "    boost_pos_short.append((2 * clf.predict(X_test) - 1)*es['return'][test_index])\n",
    "    #boost_short_sharpe.append(sharpe_ratio(2 * clf.predict(X_test) - 1, es['return'][test_index]))\n",
    "    #pos.append((2 * clf.predict(X_test) - 1)*es['return'][test_index])\n",
    "    #boost_short_sharpe.append(sharpe_ratio(xxx, es['return'][test_index]))\n",
    "#print(np.sqrt(252)*pd.concat(rf_pos).mean()/pd.concat(rf_pos).std())\n",
    "#print(np.sqrt(252)*pd.concat(boost_pos).mean()/pd.concat(boost_pos).std())\n",
    "#boost_short_sharpe\n",
    "#A = pd.concat(boost_pos) + pd.concat(rf_pos)\n",
    "#print(np.sqrt(252)*A.mean()/A.std())\n",
    "\n",
    "X_train = features[:date]\n",
    "X_test = features[date:]\n",
    "\n",
    "y = 1*(es['return'] >0)\n",
    "\n",
    "y_train = y[:date]\n",
    "y_test = y[date:]\n",
    "\n",
    "clf = RandomForestClassifier(max_depth=15, criterion='entropy',random_state= 42)\n",
    "clf.fit(X_train, y_train)\n",
    "rf_sharpe.append(sharpe_ratio(clf.predict(X_test), es['return'][date:]))\n",
    "#rf_short_sharpe.append(sharpe_ratio(2 * clf.predict(X_test) - 1, es['return'][test_index]))\n",
    "rf_pos.append(clf.predict(X_test)*es['return'][date:])\n",
    "rf_pos_short.append((2 * clf.predict(X_test) - 1)*es['return'][date:])\n",
    "rf_position.append(clf.predict(X_test))\n",
    "    \n",
    "clf = GradientBoostingClassifier(max_depth=9,random_state= 42)\n",
    "clf.fit(X_train, y_train)\n",
    "boost_sharpe.append(sharpe_ratio(clf.predict(X_test), es['return'][date:]))\n",
    "boost_pos.append(clf.predict(X_test)*es['return'][date:])\n",
    "boost_pos_short.append((2 * clf.predict(X_test) - 1)*es['return'][date:])\n",
    "boost_position.append(clf.predict(X_test))\n",
    "\n",
    "es_sharpe.append(sharpe_ratio(1,es['return'][date:]))\n",
    "\n",
    "rf_pos = pd.concat(rf_pos)\n",
    "boost_pos = pd.concat(boost_pos)\n",
    "rf_pos_short = pd.concat(rf_pos_short)\n",
    "boost_pos_short = pd.concat(boost_pos_short)\n",
    "\n",
    "rf_position = np.concatenate(rf_position)\n",
    "boost_position = np.concatenate(boost_position)\n",
    "\n",
    "\n",
    "\n",
    "print(np.sqrt(252)*rf_pos.mean()/rf_pos.std())\n",
    "print(np.sqrt(252)*boost_pos.mean()/boost_pos.std())\n",
    "np.sqrt(252)*es.iloc[291:]['return'].mean()/es.iloc[291:]['return'].std()"
   ]
  },
  {
   "cell_type": "code",
   "execution_count": 409,
   "metadata": {},
   "outputs": [
    {
     "name": "stdout",
     "output_type": "stream",
     "text": [
      "0.7070949895559995\n",
      "0.25420401900061207\n"
     ]
    }
   ],
   "source": [
    "print(np.sqrt(252)*rf_pos_short.mean()/rf_pos_short.std())\n",
    "print(np.sqrt(252)*boost_pos_short.mean()/boost_pos_short.std())"
   ]
  },
  {
   "cell_type": "code",
   "execution_count": 439,
   "metadata": {},
   "outputs": [],
   "source": [
    "B = pd.DataFrame(index=['SPX','RF','GradBoost'],\n",
    "            columns=['Accuracy', 'F1', 'Sharpe Total', 'Sharpe Test', 'Days Long'])"
   ]
  },
  {
   "cell_type": "code",
   "execution_count": 442,
   "metadata": {},
   "outputs": [
    {
     "data": {
      "text/html": [
       "<div>\n",
       "<style scoped>\n",
       "    .dataframe tbody tr th:only-of-type {\n",
       "        vertical-align: middle;\n",
       "    }\n",
       "\n",
       "    .dataframe tbody tr th {\n",
       "        vertical-align: top;\n",
       "    }\n",
       "\n",
       "    .dataframe thead th {\n",
       "        text-align: right;\n",
       "    }\n",
       "</style>\n",
       "<table border=\"1\" class=\"dataframe\">\n",
       "  <thead>\n",
       "    <tr style=\"text-align: right;\">\n",
       "      <th></th>\n",
       "      <th>Accuracy</th>\n",
       "      <th>F1</th>\n",
       "      <th>Sharpe Total</th>\n",
       "      <th>Sharpe Test</th>\n",
       "      <th>Days Long</th>\n",
       "    </tr>\n",
       "  </thead>\n",
       "  <tbody>\n",
       "    <tr>\n",
       "      <th>SPX</th>\n",
       "      <td>0.549085</td>\n",
       "      <td></td>\n",
       "      <td>0.69096</td>\n",
       "      <td>0.629522</td>\n",
       "      <td>1</td>\n",
       "    </tr>\n",
       "    <tr>\n",
       "      <th>RF</th>\n",
       "      <td>0.544648</td>\n",
       "      <td>0.646882</td>\n",
       "      <td>0.809364</td>\n",
       "      <td>1.34748</td>\n",
       "      <td>0.740433</td>\n",
       "    </tr>\n",
       "    <tr>\n",
       "      <th>GradBoost</th>\n",
       "      <td>0.520244</td>\n",
       "      <td>0.600831</td>\n",
       "      <td>0.595086</td>\n",
       "      <td>0.797615</td>\n",
       "      <td>0.652801</td>\n",
       "    </tr>\n",
       "  </tbody>\n",
       "</table>\n",
       "</div>"
      ],
      "text/plain": [
       "           Accuracy        F1 Sharpe Total Sharpe Test Days Long\n",
       "SPX        0.549085                0.69096    0.629522         1\n",
       "RF         0.544648  0.646882     0.809364     1.34748  0.740433\n",
       "GradBoost  0.520244  0.600831     0.595086    0.797615  0.652801"
      ]
     },
     "execution_count": 442,
     "metadata": {},
     "output_type": "execute_result"
    }
   ],
   "source": [
    "B.loc['SPX','Sharpe Total'] = np.sqrt(252)*es.iloc[291:]['return'].mean()/es.iloc[291:]['return'].std()\n",
    "B.loc['RF', 'Sharpe Total'] = np.sqrt(252)*rf_pos.mean()/rf_pos.std()\n",
    "B.loc['GradBoost', 'Sharpe Total'] = np.sqrt(252)*boost_pos.mean()/boost_pos.std()\n",
    "\n",
    "B.loc['SPX','Accuracy'] = accuracy_score(y.iloc[291:]*0 + 1, y.iloc[291:])\n",
    "B.loc['RF', 'Accuracy'] = accuracy_score(rf_position, y.iloc[291:])\n",
    "B.loc['GradBoost', 'Accuracy'] = accuracy_score(boost_position, y.iloc[291:])\n",
    "\n",
    "B.loc['SPX','F1'] = ''\n",
    "B.loc['RF', 'F1'] = f1_score(rf_position, y.iloc[291:])\n",
    "B.loc['GradBoost', 'F1'] = f1_score(boost_position, y.iloc[291:])\n",
    "\n",
    "B.loc['SPX','Sharpe Test'] = es_sharpe[-1]\n",
    "B.loc['RF', 'Sharpe Test'] = rf_sharpe[-1]\n",
    "B.loc['GradBoost', 'Sharpe Test'] = boost_sharpe[-1]\n",
    "\n",
    "\n",
    "B.loc['SPX', 'Days Long'] = 1\n",
    "B.loc['RF', 'Days Long'] = rf_position.sum()/len(rf_position)\n",
    "B.loc['GradBoost', 'Days Long'] = boost_position.sum()/len(boost_position)\n",
    "\n",
    "B"
   ]
  },
  {
   "cell_type": "code",
   "execution_count": null,
   "metadata": {},
   "outputs": [],
   "source": []
  },
  {
   "cell_type": "code",
   "execution_count": 430,
   "metadata": {},
   "outputs": [
    {
     "data": {
      "text/plain": [
       "Sharpe1        NaN\n",
       "Sharpe1        NaN\n",
       "Sharpe1        NaN\n",
       "Sharpe1        NaN\n",
       "Sharpe3        NaN\n",
       "Sharpe4        NaN\n",
       "Sharpe5        NaN\n",
       "Sharpe Test    NaN\n",
       "Name: SPX, dtype: object"
      ]
     },
     "execution_count": 430,
     "metadata": {},
     "output_type": "execute_result"
    }
   ],
   "source": [
    "B.loc['SPX',[ 'Sharpe1', 'Sharpe1', 'Sharpe3', 'Sharpe4', 'Sharpe5', 'Sharpe Test']]"
   ]
  },
  {
   "cell_type": "code",
   "execution_count": 424,
   "metadata": {},
   "outputs": [
    {
     "data": {
      "text/html": [
       "<div>\n",
       "<style scoped>\n",
       "    .dataframe tbody tr th:only-of-type {\n",
       "        vertical-align: middle;\n",
       "    }\n",
       "\n",
       "    .dataframe tbody tr th {\n",
       "        vertical-align: top;\n",
       "    }\n",
       "\n",
       "    .dataframe thead th {\n",
       "        text-align: right;\n",
       "    }\n",
       "</style>\n",
       "<table border=\"1\" class=\"dataframe\">\n",
       "  <thead>\n",
       "    <tr style=\"text-align: right;\">\n",
       "      <th></th>\n",
       "      <th>Accuracy</th>\n",
       "      <th>Sharpe</th>\n",
       "      <th>F1</th>\n",
       "      <th>Sharpe1</th>\n",
       "      <th>Sharpe1</th>\n",
       "      <th>Sharpe3</th>\n",
       "      <th>Sharpe4</th>\n",
       "      <th>Sharpe5</th>\n",
       "    </tr>\n",
       "  </thead>\n",
       "  <tbody>\n",
       "    <tr>\n",
       "      <th>SPX</th>\n",
       "      <td>NaN</td>\n",
       "      <td>0.69096</td>\n",
       "      <td>NaN</td>\n",
       "      <td>NaN</td>\n",
       "      <td>NaN</td>\n",
       "      <td>NaN</td>\n",
       "      <td>NaN</td>\n",
       "      <td>NaN</td>\n",
       "    </tr>\n",
       "    <tr>\n",
       "      <th>RF</th>\n",
       "      <td>NaN</td>\n",
       "      <td>0.809364</td>\n",
       "      <td>NaN</td>\n",
       "      <td>NaN</td>\n",
       "      <td>NaN</td>\n",
       "      <td>NaN</td>\n",
       "      <td>NaN</td>\n",
       "      <td>NaN</td>\n",
       "    </tr>\n",
       "    <tr>\n",
       "      <th>GradBoost</th>\n",
       "      <td>NaN</td>\n",
       "      <td>0.595086</td>\n",
       "      <td>NaN</td>\n",
       "      <td>NaN</td>\n",
       "      <td>NaN</td>\n",
       "      <td>NaN</td>\n",
       "      <td>NaN</td>\n",
       "      <td>NaN</td>\n",
       "    </tr>\n",
       "  </tbody>\n",
       "</table>\n",
       "</div>"
      ],
      "text/plain": [
       "          Accuracy    Sharpe   F1 Sharpe1 Sharpe1 Sharpe3 Sharpe4 Sharpe5\n",
       "SPX            NaN   0.69096  NaN     NaN     NaN     NaN     NaN     NaN\n",
       "RF             NaN  0.809364  NaN     NaN     NaN     NaN     NaN     NaN\n",
       "GradBoost      NaN  0.595086  NaN     NaN     NaN     NaN     NaN     NaN"
      ]
     },
     "execution_count": 424,
     "metadata": {},
     "output_type": "execute_result"
    }
   ],
   "source": [
    "B"
   ]
  },
  {
   "cell_type": "code",
   "execution_count": 411,
   "metadata": {},
   "outputs": [
    {
     "data": {
      "text/plain": [
       "0.5490848585690515"
      ]
     },
     "execution_count": 411,
     "metadata": {},
     "output_type": "execute_result"
    }
   ],
   "source": [
    "accuracy_score(y.iloc[291:]*0 + 1, y.iloc[291:])"
   ]
  },
  {
   "cell_type": "code",
   "execution_count": 412,
   "metadata": {},
   "outputs": [
    {
     "data": {
      "text/plain": [
       "0.5202440377149196"
      ]
     },
     "execution_count": 412,
     "metadata": {},
     "output_type": "execute_result"
    }
   ],
   "source": [
    "accuracy_score(boost_position, y.iloc[291:])"
   ]
  },
  {
   "cell_type": "code",
   "execution_count": 413,
   "metadata": {},
   "outputs": [
    {
     "data": {
      "text/plain": [
       "0.5446478092068774"
      ]
     },
     "execution_count": 413,
     "metadata": {},
     "output_type": "execute_result"
    }
   ],
   "source": [
    "accuracy_score(rf_position, y.iloc[291:])"
   ]
  },
  {
   "cell_type": "code",
   "execution_count": 417,
   "metadata": {},
   "outputs": [
    {
     "data": {
      "text/plain": [
       "0.0"
      ]
     },
     "execution_count": 417,
     "metadata": {},
     "output_type": "execute_result"
    }
   ],
   "source": [
    "f1_score(y.iloc[291:]*0 , y.iloc[291:])"
   ]
  },
  {
   "cell_type": "code",
   "execution_count": 415,
   "metadata": {},
   "outputs": [
    {
     "data": {
      "text/plain": [
       "0.6468817204301075"
      ]
     },
     "execution_count": 415,
     "metadata": {},
     "output_type": "execute_result"
    }
   ],
   "source": [
    "f1_score(rf_position, y.iloc[291:])"
   ]
  },
  {
   "cell_type": "code",
   "execution_count": 416,
   "metadata": {},
   "outputs": [
    {
     "data": {
      "text/plain": [
       "0.6008306414397785"
      ]
     },
     "execution_count": 416,
     "metadata": {},
     "output_type": "execute_result"
    }
   ],
   "source": [
    "f1_score(boost_position, y.iloc[291:])"
   ]
  },
  {
   "cell_type": "code",
   "execution_count": 121,
   "metadata": {},
   "outputs": [
    {
     "name": "stdout",
     "output_type": "stream",
     "text": [
      "0.5190313279936253\n"
     ]
    }
   ],
   "source": [
    "A = pd.concat(boost_pos) + pd.concat(rf_pos)\n",
    "print(np.sqrt(252)*A.mean()/A.std())"
   ]
  },
  {
   "cell_type": "code",
   "execution_count": 418,
   "metadata": {},
   "outputs": [
    {
     "data": {
      "text/plain": [
       "[0.9168147787103824,\n",
       " 0.7211503006517799,\n",
       " -0.0334296846300871,\n",
       " 3.0115426594964396,\n",
       " -0.2055370103599661,\n",
       " 1.3474779705063613]"
      ]
     },
     "execution_count": 418,
     "metadata": {},
     "output_type": "execute_result"
    }
   ],
   "source": [
    "rf_sharpe"
   ]
  },
  {
   "cell_type": "code",
   "execution_count": 419,
   "metadata": {},
   "outputs": [
    {
     "data": {
      "text/plain": [
       "[1.5980227868028245,\n",
       " 0.8385901617865291,\n",
       " 0.5025459568821748,\n",
       " 1.986775010089803,\n",
       " -0.09867061221641316,\n",
       " 0.6295221225435782]"
      ]
     },
     "execution_count": 419,
     "metadata": {},
     "output_type": "execute_result"
    }
   ],
   "source": [
    "es_sharpe"
   ]
  },
  {
   "cell_type": "code",
   "execution_count": 420,
   "metadata": {},
   "outputs": [
    {
     "data": {
      "text/plain": [
       "[1.4258975220541483,\n",
       " 0.8684322824789471,\n",
       " 0.18974482544544682,\n",
       " 2.5431530333535965,\n",
       " -0.7700340651633997,\n",
       " 0.7976151444248708]"
      ]
     },
     "execution_count": 420,
     "metadata": {},
     "output_type": "execute_result"
    }
   ],
   "source": [
    "boost_sharpe"
   ]
  },
  {
   "cell_type": "code",
   "execution_count": 578,
   "metadata": {},
   "outputs": [
    {
     "data": {
      "text/plain": [
       "2.2071932921447486"
      ]
     },
     "execution_count": 578,
     "metadata": {},
     "output_type": "execute_result"
    }
   ],
   "source": [
    "es[:date].Close[-1]/es[:date].Close[0]"
   ]
  },
  {
   "cell_type": "code",
   "execution_count": 132,
   "metadata": {},
   "outputs": [
    {
     "data": {
      "text/plain": [
       "0.9294254163799011"
      ]
     },
     "execution_count": 132,
     "metadata": {},
     "output_type": "execute_result"
    }
   ],
   "source": [
    "np.sqrt(252)*es[:date]['return'].mean()/es[:date]['return'].std()"
   ]
  },
  {
   "cell_type": "code",
   "execution_count": 448,
   "metadata": {},
   "outputs": [
    {
     "data": {
      "text/plain": [
       "0.5890310312592486"
      ]
     },
     "execution_count": 448,
     "metadata": {},
     "output_type": "execute_result"
    }
   ],
   "source": [
    "np.sqrt(252)*pd.concat(pos).mean()/pd.concat(pos).std()"
   ]
  },
  {
   "cell_type": "code",
   "execution_count": null,
   "metadata": {},
   "outputs": [],
   "source": []
  },
  {
   "cell_type": "code",
   "execution_count": 386,
   "metadata": {},
   "outputs": [
    {
     "data": {
      "text/plain": [
       "array([-1,  0,  0,  1,  1,  0,  0, -1,  0,  1,  1,  0,  1,  0,  1,  1,  1,\n",
       "       -1,  0,  0,  0,  1,  0,  1,  1,  1,  1,  1,  1,  0,  1,  1,  0,  1,\n",
       "        0,  0,  0,  1, -1, -1, -1, -1,  0, -1,  0,  1,  0,  0,  1,  0,  1,\n",
       "       -1,  1,  0,  0,  0,  1,  0,  1,  1,  1,  1,  1,  1,  0,  1,  0,  1,\n",
       "        1,  0,  0,  0,  0,  0,  0,  0,  0,  1,  1,  1,  1,  0,  0,  0,  1,\n",
       "        1,  0,  0,  1,  1,  0,  0,  1,  0,  1,  1,  0,  1,  0,  1,  0,  0,\n",
       "        0, -1,  1,  0,  0,  0,  1,  0,  1,  1,  1,  0,  1,  1,  0,  0, -1,\n",
       "        0,  0, -1,  1,  1,  1,  0,  1,  0,  1,  1,  0,  1,  0,  1,  0,  0,\n",
       "        0,  1,  1,  0, -1,  1,  1,  1, -1,  0,  1,  1,  0,  0,  1,  1,  0,\n",
       "        1,  1,  0,  0, -1,  0,  1,  0,  1,  0,  0, -1, -1,  1, -1,  1, -1,\n",
       "        0,  1,  0,  1,  0,  1,  1,  1,  0,  0, -1,  0,  0,  1,  1,  1, -1,\n",
       "        1,  1,  1,  1, -1,  0,  0,  1, -1,  0,  1,  1,  0,  1,  0,  0,  1,\n",
       "        1,  0,  0,  0,  0, -1,  1,  1,  1, -1,  0,  1,  1,  0,  0,  0,  1,\n",
       "        0,  0,  0,  0,  0, -1,  1,  0,  1,  1,  0,  1,  1,  0,  1,  0,  1,\n",
       "        1,  1,  1,  0,  1,  0,  0,  0,  0,  1,  0,  1,  1,  1,  0,  1,  1,\n",
       "        0,  0,  0,  1,  0,  1, -1,  0,  0,  1,  1,  1,  1,  0,  0,  1,  0,\n",
       "        0,  1, -1,  1,  1,  1,  1,  0,  0,  0,  0,  0,  1,  0,  1, -1, -1,\n",
       "       -1])"
      ]
     },
     "execution_count": 386,
     "metadata": {},
     "output_type": "execute_result"
    }
   ],
   "source": [
    "xxx"
   ]
  },
  {
   "cell_type": "code",
   "execution_count": 404,
   "metadata": {},
   "outputs": [
    {
     "data": {
      "text/plain": [
       "[1.8282674136479558,\n",
       " 1.2114199008104785,\n",
       " -0.5224557922369265,\n",
       " 1.9121854951518753,\n",
       " -0.12536340442508867]"
      ]
     },
     "execution_count": 404,
     "metadata": {},
     "output_type": "execute_result"
    }
   ],
   "source": [
    "boost_sharpe"
   ]
  },
  {
   "cell_type": "code",
   "execution_count": null,
   "metadata": {},
   "outputs": [],
   "source": []
  },
  {
   "cell_type": "code",
   "execution_count": null,
   "metadata": {},
   "outputs": [],
   "source": []
  },
  {
   "cell_type": "code",
   "execution_count": 405,
   "metadata": {},
   "outputs": [
    {
     "data": {
      "text/plain": [
       "[1.2082056334047226,\n",
       " 1.1268051991824712,\n",
       " -1.3645252431553334,\n",
       " 1.1691640995129333,\n",
       " -0.10966892199178181]"
      ]
     },
     "execution_count": 405,
     "metadata": {},
     "output_type": "execute_result"
    }
   ],
   "source": [
    "boost_short_sharpe"
   ]
  },
  {
   "cell_type": "code",
   "execution_count": 393,
   "metadata": {},
   "outputs": [
    {
     "data": {
      "text/plain": [
       "[1.894866357767145,\n",
       " 1.7050300332822121,\n",
       " 0.8495393606482361,\n",
       " 1.8207356148048028,\n",
       " -0.3410830213230515]"
      ]
     },
     "execution_count": 393,
     "metadata": {},
     "output_type": "execute_result"
    }
   ],
   "source": [
    "boost_sharpe"
   ]
  },
  {
   "cell_type": "code",
   "execution_count": 325,
   "metadata": {},
   "outputs": [
    {
     "data": {
      "text/plain": [
       "[0.9922527198068224,\n",
       " 0.627887887058299,\n",
       " 0.5061612459166006,\n",
       " 1.808958265717635,\n",
       " -0.2795214894642947]"
      ]
     },
     "execution_count": 325,
     "metadata": {},
     "output_type": "execute_result"
    }
   ],
   "source": [
    "rf_sharpe"
   ]
  },
  {
   "cell_type": "code",
   "execution_count": 156,
   "metadata": {},
   "outputs": [
    {
     "data": {
      "text/plain": [
       "Date\n",
       "2018-12-31    1.000500\n",
       "2019-01-02    0.975407\n",
       "2019-01-03    1.009297\n",
       "2019-01-04    1.016395\n",
       "2019-01-07    1.025992\n",
       "                ...   \n",
       "2020-05-22    1.190243\n",
       "2020-05-26    1.207638\n",
       "2020-05-27    1.205638\n",
       "2020-05-28    1.210337\n",
       "2020-05-29    1.216135\n",
       "Name: return, Length: 353, dtype: float64"
      ]
     },
     "execution_count": 156,
     "metadata": {},
     "output_type": "execute_result"
    }
   ],
   "source": [
    "(1 + es['return'][date:]).cumprod()"
   ]
  },
  {
   "cell_type": "code",
   "execution_count": null,
   "metadata": {},
   "outputs": [],
   "source": [
    "es = pd.read_csv('data/ES.csv')\n",
    "es = es[es.Time == '15:00'][['Date','Time','Close']]\n",
    "es.Date = pd.to_datetime(es.Date +' ' +'15:45')\n",
    "es.drop('Time',axis=1,inplace=True)\n",
    "es.set_index('Date', inplace=True)\n",
    "\n",
    "date_range = es['2011-12-30':'2020-5-31'].index\n",
    "\n",
    "es['Post'] = np.roll(es['Close'].pct_change(),-1)\n",
    "\n",
    "plt.plot(es['Close'])\n",
    "\n",
    "import statsmodels.api as sm\n",
    "\n",
    "X_train = nmf_features[:'2016-12-31']\n",
    "X_test = nmf_features['2016-12-31':]\n",
    "\n",
    "y = 1*(y >0)\n",
    "\n",
    "y_train = y[:'2016-12-31']\n",
    "y_test = y['2016-12-31':]\n",
    "\n",
    "\n",
    "\n",
    "\n",
    "scores = []\n",
    "f1scores = []\n",
    "roc = []\n",
    "for i in range(2,16):\n",
    "    clf = RandomForestClassifier(max_depth=i, random_state=0)\n",
    "    clf.fit(X_train, y_train)\n",
    "    scores.append(clf.score(X_test, y_test))\n",
    "    f1scores.append(f1_score(clf.predict(X_test),y_test))\n",
    "    roc.append(roc_auc_score(clf.predict(X_test),y_test))\n",
    "#clf.score(X_train, y_train)\n",
    "\n",
    "clf = RandomForestClassifier(max_depth=8, random_state=0)\n",
    "clf.fit(X_train, y_train)\n",
    "clf.score(X_test, y_test)\n",
    "\n",
    "clf.feature_importances_\n",
    "\n",
    "plt.plot(range(2,16),roc)"
   ]
  },
  {
   "cell_type": "markdown",
   "metadata": {},
   "source": [
    "# Sentiment"
   ]
  },
  {
   "cell_type": "code",
   "execution_count": null,
   "metadata": {},
   "outputs": [],
   "source": [
    "X_train = user_features[:'2016-12-31']\n",
    "X_test = user_features['2016-12-31':]\n",
    "\n",
    "y_vader = y[~user_features['PipCzar'].isnull()]\n",
    "X_vader = user_features['PipCzar'][~user_features['PipCzar'].isnull()]\n",
    "\n",
    "X_vader_train = X_vader[:'2016-12-31']\n",
    "X_vader_test = X_vader['2016-12-31':]\n",
    "\n",
    "y_vader_train = y_vader[:'2016-12-31']\n",
    "y_vader_test = y_vader['2016-12-31':]\n",
    "\n",
    "from sklearn.ensemble import RandomForestClassifier\n",
    "from sklearn.datasets import make_classification\n",
    "clf = RandomForestClassifier(max_depth=3, random_state=0)\n",
    "clf.fit(np.array(X_vader_train).reshape(-1, 1), y_vader_train)\n",
    "clf.score(np.array(X_vader_test).reshape(-1, 1), y_vader_test)\n",
    "\n",
    "from sklearn.datasets import load_iris\n",
    "from sklearn.linear_model import LogisticRegression\n",
    "clf = LogisticRegression(random_state=0).fit(X_train, y_train)\n",
    "\n",
    "\n",
    "\n",
    "\n",
    "X_train = user_features[:'2016-12-31']\n",
    "X_test = user_features['2016-12-31':]\n",
    "\n",
    "y = es['Post'].loc[sentiment_features[['daily_average']].index]\n",
    "y = 1*(y >0)\n",
    "\n",
    "y_train = y[:'2016-12-31']\n",
    "y_test = y['2016-12-31':]\n",
    "\n",
    "models = []\n",
    "\n",
    "for handle in user_features.columns:\n",
    "    mask = ~user_features[handle].isnull()\n",
    "    if mask.sum() >= 300:\n",
    "        X_handle = np.array(user_features[handle][mask]).reshape(-1,1)\n",
    "        y_handle = y[mask] \n",
    "        clf = LogisticRegression(random_state=0).fit(X_handle, y_handle)\n",
    "        models.append((handle, float(clf.coef_), clf.score(X_handle, y_handle) ))\n",
    " \n",
    "\n",
    "xxx = pd.DataFrame(models, columns=['handle','coef','score']).sort_values(by=['score'])[-100:]"
   ]
  }
 ],
 "metadata": {
  "kernelspec": {
   "display_name": "Python 3",
   "language": "python",
   "name": "python3"
  },
  "language_info": {
   "codemirror_mode": {
    "name": "ipython",
    "version": 3
   },
   "file_extension": ".py",
   "mimetype": "text/x-python",
   "name": "python",
   "nbconvert_exporter": "python",
   "pygments_lexer": "ipython3",
   "version": "3.7.6"
  }
 },
 "nbformat": 4,
 "nbformat_minor": 4
}
