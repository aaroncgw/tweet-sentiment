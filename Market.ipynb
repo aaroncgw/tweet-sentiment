{
 "cells": [
  {
   "cell_type": "code",
   "execution_count": null,
   "metadata": {},
   "outputs": [],
   "source": []
  },
  {
   "cell_type": "code",
   "execution_count": null,
   "metadata": {},
   "outputs": [],
   "source": []
  },
  {
   "cell_type": "markdown",
   "metadata": {},
   "source": [
    "# Topic Models"
   ]
  },
  {
   "cell_type": "code",
   "execution_count": null,
   "metadata": {},
   "outputs": [],
   "source": [
    "es = pd.read_csv('data/ES.csv')\n",
    "es = es[es.Time == '15:00'][['Date','Time','Close']]\n",
    "es.Date = pd.to_datetime(es.Date +' ' +'15:45')\n",
    "es.drop('Time',axis=1,inplace=True)\n",
    "es.set_index('Date', inplace=True)\n",
    "\n",
    "date_range = es['2011-12-30':'2020-5-31'].index\n",
    "\n",
    "es['Post'] = np.roll(es['Close'].pct_change(),-1)\n",
    "\n",
    "plt.plot(es['Close'])\n",
    "\n",
    "import statsmodels.api as sm\n",
    "\n",
    "X_train = nmf_features[:'2016-12-31']\n",
    "X_test = nmf_features['2016-12-31':]\n",
    "\n",
    "y = 1*(y >0)\n",
    "\n",
    "y_train = y[:'2016-12-31']\n",
    "y_test = y['2016-12-31':]\n",
    "\n",
    "from sklearn.metrics import f1_score, roc_auc_score\n",
    "\n",
    "from sklearn.ensemble import RandomForestClassifier\n",
    "from sklearn.datasets import make_classification\n",
    "\n",
    "scores = []\n",
    "f1scores = []\n",
    "roc = []\n",
    "for i in range(2,16):\n",
    "    clf = RandomForestClassifier(max_depth=i, random_state=0)\n",
    "    clf.fit(X_train, y_train)\n",
    "    scores.append(clf.score(X_test, y_test))\n",
    "    f1scores.append(f1_score(clf.predict(X_test),y_test))\n",
    "    roc.append(roc_auc_score(clf.predict(X_test),y_test))\n",
    "#clf.score(X_train, y_train)\n",
    "\n",
    "clf = RandomForestClassifier(max_depth=8, random_state=0)\n",
    "clf.fit(X_train, y_train)\n",
    "clf.score(X_test, y_test)\n",
    "\n",
    "clf.feature_importances_\n",
    "\n",
    "plt.plot(range(2,16),roc)"
   ]
  },
  {
   "cell_type": "markdown",
   "metadata": {},
   "source": [
    "# Sentiment"
   ]
  },
  {
   "cell_type": "code",
   "execution_count": null,
   "metadata": {},
   "outputs": [],
   "source": [
    "X_train = user_features[:'2016-12-31']\n",
    "X_test = user_features['2016-12-31':]\n",
    "\n",
    "y_vader = y[~user_features['PipCzar'].isnull()]\n",
    "X_vader = user_features['PipCzar'][~user_features['PipCzar'].isnull()]\n",
    "\n",
    "X_vader_train = X_vader[:'2016-12-31']\n",
    "X_vader_test = X_vader['2016-12-31':]\n",
    "\n",
    "y_vader_train = y_vader[:'2016-12-31']\n",
    "y_vader_test = y_vader['2016-12-31':]\n",
    "\n",
    "from sklearn.ensemble import RandomForestClassifier\n",
    "from sklearn.datasets import make_classification\n",
    "clf = RandomForestClassifier(max_depth=3, random_state=0)\n",
    "clf.fit(np.array(X_vader_train).reshape(-1, 1), y_vader_train)\n",
    "clf.score(np.array(X_vader_test).reshape(-1, 1), y_vader_test)\n",
    "\n",
    "from sklearn.datasets import load_iris\n",
    "from sklearn.linear_model import LogisticRegression\n",
    "clf = LogisticRegression(random_state=0).fit(X_train, y_train)\n",
    "\n",
    "\n",
    "\n",
    "\n",
    "X_train = user_features[:'2016-12-31']\n",
    "X_test = user_features['2016-12-31':]\n",
    "\n",
    "y = es['Post'].loc[sentiment_features[['daily_average']].index]\n",
    "y = 1*(y >0)\n",
    "\n",
    "y_train = y[:'2016-12-31']\n",
    "y_test = y['2016-12-31':]\n",
    "\n",
    "models = []\n",
    "\n",
    "for handle in user_features.columns:\n",
    "    mask = ~user_features[handle].isnull()\n",
    "    if mask.sum() >= 300:\n",
    "        X_handle = np.array(user_features[handle][mask]).reshape(-1,1)\n",
    "        y_handle = y[mask] \n",
    "        clf = LogisticRegression(random_state=0).fit(X_handle, y_handle)\n",
    "        models.append((handle, float(clf.coef_), clf.score(X_handle, y_handle) ))\n",
    " \n",
    "\n",
    "xxx = pd.DataFrame(models, columns=['handle','coef','score']).sort_values(by=['score'])[-100:]"
   ]
  }
 ],
 "metadata": {
  "kernelspec": {
   "display_name": "Python 3",
   "language": "python",
   "name": "python3"
  },
  "language_info": {
   "codemirror_mode": {
    "name": "ipython",
    "version": 3
   },
   "file_extension": ".py",
   "mimetype": "text/x-python",
   "name": "python",
   "nbconvert_exporter": "python",
   "pygments_lexer": "ipython3",
   "version": "3.7.6"
  }
 },
 "nbformat": 4,
 "nbformat_minor": 4
}
