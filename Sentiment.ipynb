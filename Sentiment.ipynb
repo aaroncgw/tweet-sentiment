{
 "cells": [
  {
   "cell_type": "code",
   "execution_count": 1,
   "metadata": {},
   "outputs": [],
   "source": [
    "import pandas as pd\n",
    "from transformers import pipeline\n",
    "from modules.tweet_data import read_raw_data\n",
    "from modules.spacy import spacy_twitter_model\n",
    "import datetime as dt"
   ]
  },
  {
   "cell_type": "code",
   "execution_count": null,
   "metadata": {},
   "outputs": [],
   "source": []
  },
  {
   "cell_type": "code",
   "execution_count": 2,
   "metadata": {},
   "outputs": [],
   "source": [
    "nlp = spacy_twitter_model()\n",
    "sentiment_model = pipeline('sentiment-analysis')"
   ]
  },
  {
   "cell_type": "code",
   "execution_count": 3,
   "metadata": {},
   "outputs": [
    {
     "name": "stdout",
     "output_type": "stream",
     "text": [
      "Reading data\n"
     ]
    }
   ],
   "source": [
    "tweet_df = read_raw_data()"
   ]
  },
  {
   "cell_type": "code",
   "execution_count": 4,
   "metadata": {},
   "outputs": [],
   "source": [
    "es = pd.read_csv('data/ES.csv')\n",
    "es = es[es.Time == '15:00'][['Date','Time','Close']]\n",
    "es.Date = pd.to_datetime(es.Date +' ' +'15:45')\n",
    "es.drop('Time',axis=1,inplace=True)\n",
    "es.set_index('Date', inplace=True)\n",
    "date_range = es['2018-6-1':'2020-5-31'].index"
   ]
  },
  {
   "cell_type": "code",
   "execution_count": 81,
   "metadata": {},
   "outputs": [],
   "source": [
    "def twitter_tokenizer(d,\n",
    "                      model=nlp,\n",
    "                      urls=True,\n",
    "                      stop_words=False,\n",
    "                      lowercase=True,\n",
    "                      alpha_only=True,\n",
    "                      hashtags=True,\n",
    "                      lemma=False):\n",
    "    \"\"\"Full tokenizer with flags for processing steps\n",
    "    urls: If True, remove URLs\n",
    "    stop_words: If True, removes stop words\n",
    "    lowercase: If True, lowercases all tokens\n",
    "    alpha_only: If True, removes all non-alpha characters\n",
    "    lemma: If True, lemmatizes words\n",
    "\n",
    "    The tokenizer also removes all URLS\n",
    "    \"\"\"\n",
    "    parsed = model(d)\n",
    "    # token collector\n",
    "    tokens = []\n",
    "    for t in parsed:\n",
    "        # remove URLs\n",
    "        if t.like_url or t._.is_piclink & urls:\n",
    "            continue\n",
    "        # only include stop words if stop words==True\n",
    "        if t.is_stop & stop_words:\n",
    "            continue\n",
    "        # only include non-alpha is alpha_only==False\n",
    "        if not t.is_alpha & alpha_only:\n",
    "            if hashtags:\n",
    "                continue\n",
    "            else:\n",
    "                if not t._.is_hashtag:\n",
    "                    continue\n",
    "        if lemma:\n",
    "            t = t.lemma_\n",
    "        else:\n",
    "            t = t.text\n",
    "        if lowercase:\n",
    "            t = t.lower()\n",
    "        tokens.append(t)\n",
    "    return tokens"
   ]
  },
  {
   "cell_type": "code",
   "execution_count": 6,
   "metadata": {},
   "outputs": [],
   "source": [
    "sample = tweet_df[date_range[0]:(date_range[1]-dt.timedelta(seconds=1))]"
   ]
  },
  {
   "cell_type": "code",
   "execution_count": 37,
   "metadata": {},
   "outputs": [],
   "source": [
    "text = ' '.join(sample.tweet)"
   ]
  },
  {
   "cell_type": "code",
   "execution_count": 17,
   "metadata": {},
   "outputs": [
    {
     "data": {
      "text/html": [
       "<div>\n",
       "<style scoped>\n",
       "    .dataframe tbody tr th:only-of-type {\n",
       "        vertical-align: middle;\n",
       "    }\n",
       "\n",
       "    .dataframe tbody tr th {\n",
       "        vertical-align: top;\n",
       "    }\n",
       "\n",
       "    .dataframe thead th {\n",
       "        text-align: right;\n",
       "    }\n",
       "</style>\n",
       "<table border=\"1\" class=\"dataframe\">\n",
       "  <thead>\n",
       "    <tr style=\"text-align: right;\">\n",
       "      <th></th>\n",
       "      <th>tweet_id</th>\n",
       "      <th>handle</th>\n",
       "      <th>tweet</th>\n",
       "    </tr>\n",
       "    <tr>\n",
       "      <th>timestamp</th>\n",
       "      <th></th>\n",
       "      <th></th>\n",
       "      <th></th>\n",
       "    </tr>\n",
       "  </thead>\n",
       "  <tbody>\n",
       "    <tr>\n",
       "      <th>2006-09-22 09:02:46</th>\n",
       "      <td>33743</td>\n",
       "      <td>guan</td>\n",
       "      <td>Hello, World!</td>\n",
       "    </tr>\n",
       "    <tr>\n",
       "      <th>2006-09-22 09:21:33</th>\n",
       "      <td>33745</td>\n",
       "      <td>guan</td>\n",
       "      <td>Working on a cool new project at Steffen's house.</td>\n",
       "    </tr>\n",
       "    <tr>\n",
       "      <th>2007-01-17 21:43:23</th>\n",
       "      <td>3175083</td>\n",
       "      <td>MarketWatch</td>\n",
       "      <td>Ex-Cendant chairman gets 12-year-plus prison s...</td>\n",
       "    </tr>\n",
       "    <tr>\n",
       "      <th>2007-01-17 21:43:25</th>\n",
       "      <td>3175143</td>\n",
       "      <td>MarketWatch</td>\n",
       "      <td>Ex-Cendant chairman gets 12-year prison senten...</td>\n",
       "    </tr>\n",
       "    <tr>\n",
       "      <th>2007-01-17 21:44:50</th>\n",
       "      <td>3175323</td>\n",
       "      <td>MarketWatch</td>\n",
       "      <td>Home builders' sentiment rises to highest leve...</td>\n",
       "    </tr>\n",
       "    <tr>\n",
       "      <th>...</th>\n",
       "      <td>...</td>\n",
       "      <td>...</td>\n",
       "      <td>...</td>\n",
       "    </tr>\n",
       "    <tr>\n",
       "      <th>2020-07-10 20:32:55</th>\n",
       "      <td>1281687871406186497</td>\n",
       "      <td>RANsquawk</td>\n",
       "      <td>Cheers good sir!!! you too mate :)</td>\n",
       "    </tr>\n",
       "    <tr>\n",
       "      <th>2020-07-10 20:37:10</th>\n",
       "      <td>1281688941389905921</td>\n",
       "      <td>lindayueh</td>\n",
       "      <td>Prime Minister, who posed in a face covering f...</td>\n",
       "    </tr>\n",
       "    <tr>\n",
       "      <th>2020-07-10 20:52:55</th>\n",
       "      <td>1281692904071876611</td>\n",
       "      <td>bopinion</td>\n",
       "      <td>Today, roughly 20% of all U.S.-listed stocks a...</td>\n",
       "    </tr>\n",
       "    <tr>\n",
       "      <th>2020-07-10 21:22:53</th>\n",
       "      <td>1281700446281838605</td>\n",
       "      <td>bopinion</td>\n",
       "      <td>We'll have to re-think some of our notions abo...</td>\n",
       "    </tr>\n",
       "    <tr>\n",
       "      <th>2020-07-10 21:53:32</th>\n",
       "      <td>1281708159606894598</td>\n",
       "      <td>bopinion</td>\n",
       "      <td>Something important is afoot.   Chinese stock ...</td>\n",
       "    </tr>\n",
       "  </tbody>\n",
       "</table>\n",
       "<p>35109352 rows × 3 columns</p>\n",
       "</div>"
      ],
      "text/plain": [
       "                                tweet_id       handle  \\\n",
       "timestamp                                               \n",
       "2006-09-22 09:02:46                33743         guan   \n",
       "2006-09-22 09:21:33                33745         guan   \n",
       "2007-01-17 21:43:23              3175083  MarketWatch   \n",
       "2007-01-17 21:43:25              3175143  MarketWatch   \n",
       "2007-01-17 21:44:50              3175323  MarketWatch   \n",
       "...                                  ...          ...   \n",
       "2020-07-10 20:32:55  1281687871406186497    RANsquawk   \n",
       "2020-07-10 20:37:10  1281688941389905921    lindayueh   \n",
       "2020-07-10 20:52:55  1281692904071876611     bopinion   \n",
       "2020-07-10 21:22:53  1281700446281838605     bopinion   \n",
       "2020-07-10 21:53:32  1281708159606894598     bopinion   \n",
       "\n",
       "                                                                 tweet  \n",
       "timestamp                                                               \n",
       "2006-09-22 09:02:46                                      Hello, World!  \n",
       "2006-09-22 09:21:33  Working on a cool new project at Steffen's house.  \n",
       "2007-01-17 21:43:23  Ex-Cendant chairman gets 12-year-plus prison s...  \n",
       "2007-01-17 21:43:25  Ex-Cendant chairman gets 12-year prison senten...  \n",
       "2007-01-17 21:44:50  Home builders' sentiment rises to highest leve...  \n",
       "...                                                                ...  \n",
       "2020-07-10 20:32:55                 Cheers good sir!!! you too mate :)  \n",
       "2020-07-10 20:37:10  Prime Minister, who posed in a face covering f...  \n",
       "2020-07-10 20:52:55  Today, roughly 20% of all U.S.-listed stocks a...  \n",
       "2020-07-10 21:22:53  We'll have to re-think some of our notions abo...  \n",
       "2020-07-10 21:53:32  Something important is afoot.   Chinese stock ...  \n",
       "\n",
       "[35109352 rows x 3 columns]"
      ]
     },
     "execution_count": 17,
     "metadata": {},
     "output_type": "execute_result"
    }
   ],
   "source": [
    "tweet_df"
   ]
  },
  {
   "cell_type": "code",
   "execution_count": 19,
   "metadata": {},
   "outputs": [
    {
     "data": {
      "text/html": [
       "<div>\n",
       "<style scoped>\n",
       "    .dataframe tbody tr th:only-of-type {\n",
       "        vertical-align: middle;\n",
       "    }\n",
       "\n",
       "    .dataframe tbody tr th {\n",
       "        vertical-align: top;\n",
       "    }\n",
       "\n",
       "    .dataframe thead th {\n",
       "        text-align: right;\n",
       "    }\n",
       "</style>\n",
       "<table border=\"1\" class=\"dataframe\">\n",
       "  <thead>\n",
       "    <tr style=\"text-align: right;\">\n",
       "      <th></th>\n",
       "      <th>tweet_id</th>\n",
       "      <th>handle</th>\n",
       "      <th>tweet</th>\n",
       "    </tr>\n",
       "    <tr>\n",
       "      <th>timestamp</th>\n",
       "      <th></th>\n",
       "      <th></th>\n",
       "      <th></th>\n",
       "    </tr>\n",
       "  </thead>\n",
       "  <tbody>\n",
       "    <tr>\n",
       "      <th>2018-06-02 03:00:19</th>\n",
       "      <td>1002746707493425152</td>\n",
       "      <td>AJEnglish</td>\n",
       "      <td>Personal stories from around the world about d...</td>\n",
       "    </tr>\n",
       "    <tr>\n",
       "      <th>2018-06-03 11:04:28</th>\n",
       "      <td>1003230933183590401</td>\n",
       "      <td>majilato</td>\n",
       "      <td>Suppose you came to terms with going bald.  .....</td>\n",
       "    </tr>\n",
       "    <tr>\n",
       "      <th>2018-06-03 16:36:45</th>\n",
       "      <td>1003314556498739201</td>\n",
       "      <td>ErikFossing</td>\n",
       "      <td>For sure.  These are charges by the Commission...</td>\n",
       "    </tr>\n",
       "    <tr>\n",
       "      <th>2018-06-03 17:09:42</th>\n",
       "      <td>1003322850051346432</td>\n",
       "      <td>Redistrict</td>\n",
       "      <td>Another big problem for Dems in #CA39 is that ...</td>\n",
       "    </tr>\n",
       "    <tr>\n",
       "      <th>2018-06-02 03:00:01</th>\n",
       "      <td>1002746629726916608</td>\n",
       "      <td>FreeBeacon</td>\n",
       "      <td>George Soros Pulls Out of San Diego’s District...</td>\n",
       "    </tr>\n",
       "    <tr>\n",
       "      <th>...</th>\n",
       "      <td>...</td>\n",
       "      <td>...</td>\n",
       "      <td>...</td>\n",
       "    </tr>\n",
       "    <tr>\n",
       "      <th>2018-06-04 02:51:14</th>\n",
       "      <td>1003469195424694272</td>\n",
       "      <td>prchovanec</td>\n",
       "      <td>Jun 3, 1918 - New York Times: US fighter pilot...</td>\n",
       "    </tr>\n",
       "    <tr>\n",
       "      <th>2018-06-03 12:29:38</th>\n",
       "      <td>1003252365598904321</td>\n",
       "      <td>adamscrabble</td>\n",
       "      <td>.@johnrobb not sure if youre  following the li...</td>\n",
       "    </tr>\n",
       "    <tr>\n",
       "      <th>2018-06-04 14:01:49</th>\n",
       "      <td>1003637954986864640</td>\n",
       "      <td>rcallimachi</td>\n",
       "      <td>An unusual partnership: @_JesseMorton, once a ...</td>\n",
       "    </tr>\n",
       "    <tr>\n",
       "      <th>2018-06-01 19:58:45</th>\n",
       "      <td>1002640616810008576</td>\n",
       "      <td>conorsen</td>\n",
       "      <td>By the time policy gets back to neutral the Fe...</td>\n",
       "    </tr>\n",
       "    <tr>\n",
       "      <th>2018-06-03 16:29:00</th>\n",
       "      <td>1003312605811871744</td>\n",
       "      <td>AlArabiya_Eng</td>\n",
       "      <td>#China warns #US against imposing trade sancti...</td>\n",
       "    </tr>\n",
       "  </tbody>\n",
       "</table>\n",
       "<p>1000 rows × 3 columns</p>\n",
       "</div>"
      ],
      "text/plain": [
       "                                tweet_id         handle  \\\n",
       "timestamp                                                 \n",
       "2018-06-02 03:00:19  1002746707493425152      AJEnglish   \n",
       "2018-06-03 11:04:28  1003230933183590401       majilato   \n",
       "2018-06-03 16:36:45  1003314556498739201    ErikFossing   \n",
       "2018-06-03 17:09:42  1003322850051346432     Redistrict   \n",
       "2018-06-02 03:00:01  1002746629726916608     FreeBeacon   \n",
       "...                                  ...            ...   \n",
       "2018-06-04 02:51:14  1003469195424694272     prchovanec   \n",
       "2018-06-03 12:29:38  1003252365598904321   adamscrabble   \n",
       "2018-06-04 14:01:49  1003637954986864640    rcallimachi   \n",
       "2018-06-01 19:58:45  1002640616810008576       conorsen   \n",
       "2018-06-03 16:29:00  1003312605811871744  AlArabiya_Eng   \n",
       "\n",
       "                                                                 tweet  \n",
       "timestamp                                                               \n",
       "2018-06-02 03:00:19  Personal stories from around the world about d...  \n",
       "2018-06-03 11:04:28  Suppose you came to terms with going bald.  .....  \n",
       "2018-06-03 16:36:45  For sure.  These are charges by the Commission...  \n",
       "2018-06-03 17:09:42  Another big problem for Dems in #CA39 is that ...  \n",
       "2018-06-02 03:00:01  George Soros Pulls Out of San Diego’s District...  \n",
       "...                                                                ...  \n",
       "2018-06-04 02:51:14  Jun 3, 1918 - New York Times: US fighter pilot...  \n",
       "2018-06-03 12:29:38  .@johnrobb not sure if youre  following the li...  \n",
       "2018-06-04 14:01:49  An unusual partnership: @_JesseMorton, once a ...  \n",
       "2018-06-01 19:58:45  By the time policy gets back to neutral the Fe...  \n",
       "2018-06-03 16:29:00  #China warns #US against imposing trade sancti...  \n",
       "\n",
       "[1000 rows x 3 columns]"
      ]
     },
     "execution_count": 19,
     "metadata": {},
     "output_type": "execute_result"
    }
   ],
   "source": [
    "sample.sample(1000)"
   ]
  },
  {
   "cell_type": "code",
   "execution_count": 9,
   "metadata": {},
   "outputs": [],
   "source": [
    "import time"
   ]
  },
  {
   "cell_type": "code",
   "execution_count": 82,
   "metadata": {},
   "outputs": [
    {
     "name": "stdout",
     "output_type": "stream",
     "text": [
      "129.0026581287384\n"
     ]
    }
   ],
   "source": [
    "t = time.time()\n",
    "ww = [' '.join(twitter_tokenizer(tweet)) for tweet in sample.tweet]\n",
    "print(time.time() - t)"
   ]
  },
  {
   "cell_type": "code",
   "execution_count": 87,
   "metadata": {},
   "outputs": [
    {
     "name": "stdout",
     "output_type": "stream",
     "text": [
      "359.92059326171875\n"
     ]
    }
   ],
   "source": [
    "t = time.time()\n",
    "sample_size = len(ww)\n",
    "batch_size = 4\n",
    "samp = ww\n",
    "samp = [list(samp[i:i+batch_size]) for i in range(0,sample_size,batch_size)]\n",
    "t = time.time()\n",
    "for s in samp:\n",
    "    A.append(sentiment_model(s))\n",
    "print(time.time() - t)"
   ]
  },
  {
   "cell_type": "code",
   "execution_count": 51,
   "metadata": {},
   "outputs": [],
   "source": [
    "A= []\n",
    "samp = sample.tweet.sample(1000)\n",
    "samp = [list(samp[i:i+10]) for i in range(0,1000,10)]"
   ]
  },
  {
   "cell_type": "code",
   "execution_count": 45,
   "metadata": {},
   "outputs": [
    {
     "data": {
      "text/plain": [
       "['Why a bet against the dollar makes sense as trade-war fears fester https://on.mktw.net/2J9ufnK\\xa0',\n",
       " 'michael burryesque',\n",
       " 'France, Ifop poll:  President Macron Approval Rating  Approve: 41% (-3) Disapprove: 57% (+2)  Field work: 17/05/18 – 26/05/18 Sample size: 1,933',\n",
       " 'Shoutout to @larissaluu @andy_mills @schwendydorr and @Pasthaaa !',\n",
       " '#IAEA Urges Cooperation from #Iran over Nuclear Inspections  http://aawsat.com/node/1289681\\xa0',\n",
       " \"I've thought about it for a long time and I objectively cannot come up with a reason why someone would need to spend more than a few dollars on a set of pens.\",\n",
       " \"Now that we know that the White House repeatedly lied about Trump's dictation of Don Trump Jr's false statements about the Trump Tower meeting ... isn't it time to review WH denials that it blocked the TimeWarner/ATT merger for malicious political reasons http://www.chicagotribune.com/business/ct-biz-doj-lawsit-time-warner-att-20171121-story.html\\xa0…\",\n",
       " 'Israel’s finance ministry is proposing to extend anti-money laundering regulations to bitcoin and other digital currency exchange service providers to prevent tax avoidance and terrorist financing.#bitcoin #cryptocurrency #CRYPTO',\n",
       " \"Carvel's Fudgie the Whale just got turned into a beer, because nothing is sacred  https://hellogiggles.com/news/carvel-fudgie-the-whale-beer/?utm_source=twitter.com&utm_medium=social&utm_campaign=social-button-sharing\\xa0… via @hellogiggles\",\n",
       " 'That’s mean.']"
      ]
     },
     "execution_count": 45,
     "metadata": {},
     "output_type": "execute_result"
    }
   ],
   "source": [
    "samp[0]"
   ]
  },
  {
   "cell_type": "code",
   "execution_count": 65,
   "metadata": {},
   "outputs": [
    {
     "data": {
      "text/plain": [
       "timestamp\n",
       "2018-06-01 15:45:03    Wife of ex-Malaysian PM summoned in probe over...\n",
       "2018-06-01 15:45:08    It's the collective action that matters and in...\n",
       "2018-06-01 15:45:12    But you know, at 20, my heroes were HL Mencken...\n",
       "2018-06-01 15:45:19    It’s our 20th birthday today! Want to know mor...\n",
       "2018-06-01 15:45:21                           *A funeral. I cannot type.\n",
       "                                             ...                        \n",
       "2018-06-04 15:44:40    The unfilled vacancy for benign hegemon of glo...\n",
       "2018-06-04 15:44:44    $AMD so much call buying last month or so smel...\n",
       "2018-06-04 15:44:45    Bezoek OCMW van Etterbeek, ontmoeting met maat...\n",
       "2018-06-04 15:44:49    Also - the Government needs to pass not just 1...\n",
       "2018-06-04 15:44:55    Sure.  But what does that have to do with his ...\n",
       "Name: tweet, Length: 22850, dtype: object"
      ]
     },
     "execution_count": 65,
     "metadata": {},
     "output_type": "execute_result"
    }
   ],
   "source": [
    "sample.tweet[sample.tweet.str.len()>10]"
   ]
  },
  {
   "cell_type": "code",
   "execution_count": 60,
   "metadata": {},
   "outputs": [
    {
     "name": "stdout",
     "output_type": "stream",
     "text": [
      "63.15687084197998\n"
     ]
    }
   ],
   "source": [
    "t = time.time()\n",
    "sample_size = 2048\n",
    "batch_size = 4\n",
    "samp = sample.tweet.sample(sample_size)\n",
    "samp = [list(samp[i:i+batch_size]) for i in range(0,sample_size,batch_size)]\n",
    "t = time.time()\n",
    "for s in samp:\n",
    "    A.append(sentiment_model(s))\n",
    "print(time.time() - t)"
   ]
  },
  {
   "cell_type": "code",
   "execution_count": 53,
   "metadata": {},
   "outputs": [
    {
     "name": "stdout",
     "output_type": "stream",
     "text": [
      "92.40196514129639\n"
     ]
    }
   ],
   "source": [
    "t = time.time()\n",
    "sentiment_model(list(sample.tweet.sample(sample_size)))\n",
    "print(time.time() - t)"
   ]
  },
  {
   "cell_type": "code",
   "execution_count": 28,
   "metadata": {},
   "outputs": [],
   "source": [
    "score = 0\n",
    "score = sum([a['score'] if a['label'] == 'POSITIVE' else -a['score'] for a in A])\n",
    "\n",
    "    "
   ]
  },
  {
   "cell_type": "code",
   "execution_count": 29,
   "metadata": {},
   "outputs": [
    {
     "data": {
      "text/plain": [
       "-0.45797855550050737"
      ]
     },
     "execution_count": 29,
     "metadata": {},
     "output_type": "execute_result"
    }
   ],
   "source": [
    "score/1000"
   ]
  }
 ],
 "metadata": {
  "kernelspec": {
   "display_name": "Python 3",
   "language": "python",
   "name": "python3"
  },
  "language_info": {
   "codemirror_mode": {
    "name": "ipython",
    "version": 3
   },
   "file_extension": ".py",
   "mimetype": "text/x-python",
   "name": "python",
   "nbconvert_exporter": "python",
   "pygments_lexer": "ipython3",
   "version": "3.7.6"
  }
 },
 "nbformat": 4,
 "nbformat_minor": 4
}
