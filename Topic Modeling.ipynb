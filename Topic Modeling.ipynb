{
 "cells": [
  {
   "cell_type": "code",
   "execution_count": 68,
   "metadata": {},
   "outputs": [],
   "source": [
    "from modules.tweet_data import read_raw_data\n",
    "from modules.topics import TopicSeries, display_components\n",
    "\n",
    "import datetime as dt\n",
    "import pandas as pd\n",
    "import spacy\n",
    "import re\n",
    "from sklearn.feature_extraction.text import CountVectorizer, TfidfVectorizer\n",
    "from sklearn.decomposition import NMF, LatentDirichletAllocation\n",
    "\n",
    "import matplotlib.pyplot as plt"
   ]
  },
  {
   "cell_type": "code",
   "execution_count": 46,
   "metadata": {},
   "outputs": [],
   "source": [
    "tweet_df = read_raw_data()\n",
    "es = pd.read_csv('data/ES.csv')"
   ]
  },
  {
   "cell_type": "code",
   "execution_count": 3,
   "metadata": {},
   "outputs": [
    {
     "name": "stdout",
     "output_type": "stream",
     "text": [
      "Reading data\n"
     ]
    }
   ],
   "source": [
    "es = es[es.Time == '15:00'][['Date','Time','Close']]\n",
    "es.Date = pd.to_datetime(es.Date +' ' +'15:45')\n",
    "es.drop('Time',axis=1,inplace=True)\n",
    "es.set_index('Date', inplace=True)\n",
    "date_range = es['2018-6-1':'2020-5-31'].index"
   ]
  },
  {
   "cell_type": "code",
   "execution_count": 49,
   "metadata": {},
   "outputs": [
    {
     "data": {
      "text/html": [
       "<div>\n",
       "<style scoped>\n",
       "    .dataframe tbody tr th:only-of-type {\n",
       "        vertical-align: middle;\n",
       "    }\n",
       "\n",
       "    .dataframe tbody tr th {\n",
       "        vertical-align: top;\n",
       "    }\n",
       "\n",
       "    .dataframe thead th {\n",
       "        text-align: right;\n",
       "    }\n",
       "</style>\n",
       "<table border=\"1\" class=\"dataframe\">\n",
       "  <thead>\n",
       "    <tr style=\"text-align: right;\">\n",
       "      <th></th>\n",
       "      <th>tweet_id</th>\n",
       "      <th>handle</th>\n",
       "      <th>tweet</th>\n",
       "    </tr>\n",
       "    <tr>\n",
       "      <th>timestamp</th>\n",
       "      <th></th>\n",
       "      <th></th>\n",
       "      <th></th>\n",
       "    </tr>\n",
       "  </thead>\n",
       "  <tbody>\n",
       "    <tr>\n",
       "      <th>2018-06-01 15:45:03</th>\n",
       "      <td>1002576770879643649</td>\n",
       "      <td>AJEnglish</td>\n",
       "      <td>Wife of ex-Malaysian PM summoned in probe over...</td>\n",
       "    </tr>\n",
       "    <tr>\n",
       "      <th>2018-06-01 15:45:08</th>\n",
       "      <td>1002576790190247937</td>\n",
       "      <td>michaelsantoli</td>\n",
       "      <td>It's the collective action that matters and in...</td>\n",
       "    </tr>\n",
       "    <tr>\n",
       "      <th>2018-06-01 15:45:12</th>\n",
       "      <td>1002576807302975489</td>\n",
       "      <td>asymmetricinfo</td>\n",
       "      <td>But you know, at 20, my heroes were HL Mencken...</td>\n",
       "    </tr>\n",
       "    <tr>\n",
       "      <th>2018-06-01 15:45:19</th>\n",
       "      <td>1002576838542184448</td>\n",
       "      <td>ecb</td>\n",
       "      <td>It’s our 20th birthday today! Want to know mor...</td>\n",
       "    </tr>\n",
       "    <tr>\n",
       "      <th>2018-06-01 15:45:21</th>\n",
       "      <td>1002576844074385408</td>\n",
       "      <td>soledadobrien</td>\n",
       "      <td>*A funeral. I cannot type.</td>\n",
       "    </tr>\n",
       "    <tr>\n",
       "      <th>...</th>\n",
       "      <td>...</td>\n",
       "      <td>...</td>\n",
       "      <td>...</td>\n",
       "    </tr>\n",
       "    <tr>\n",
       "      <th>2018-06-04 15:44:40</th>\n",
       "      <td>1003663838259138560</td>\n",
       "      <td>ftchina</td>\n",
       "      <td>The unfilled vacancy for benign hegemon of glo...</td>\n",
       "    </tr>\n",
       "    <tr>\n",
       "      <th>2018-06-04 15:44:44</th>\n",
       "      <td>1003663854893613057</td>\n",
       "      <td>canuck2usa</td>\n",
       "      <td>$AMD so much call buying last month or so smel...</td>\n",
       "    </tr>\n",
       "    <tr>\n",
       "      <th>2018-06-04 15:44:45</th>\n",
       "      <td>1003663859171852288</td>\n",
       "      <td>CharlesMichel</td>\n",
       "      <td>Bezoek OCMW van Etterbeek, ontmoeting met maat...</td>\n",
       "    </tr>\n",
       "    <tr>\n",
       "      <th>2018-06-04 15:44:49</th>\n",
       "      <td>1003663876167274497</td>\n",
       "      <td>faisalislam</td>\n",
       "      <td>Also - the Government needs to pass not just 1...</td>\n",
       "    </tr>\n",
       "    <tr>\n",
       "      <th>2018-06-04 15:44:55</th>\n",
       "      <td>1003663897927344134</td>\n",
       "      <td>OrinKerr</td>\n",
       "      <td>Sure.  But what does that have to do with his ...</td>\n",
       "    </tr>\n",
       "  </tbody>\n",
       "</table>\n",
       "<p>23060 rows × 3 columns</p>\n",
       "</div>"
      ],
      "text/plain": [
       "                                tweet_id          handle  \\\n",
       "timestamp                                                  \n",
       "2018-06-01 15:45:03  1002576770879643649       AJEnglish   \n",
       "2018-06-01 15:45:08  1002576790190247937  michaelsantoli   \n",
       "2018-06-01 15:45:12  1002576807302975489  asymmetricinfo   \n",
       "2018-06-01 15:45:19  1002576838542184448             ecb   \n",
       "2018-06-01 15:45:21  1002576844074385408   soledadobrien   \n",
       "...                                  ...             ...   \n",
       "2018-06-04 15:44:40  1003663838259138560         ftchina   \n",
       "2018-06-04 15:44:44  1003663854893613057      canuck2usa   \n",
       "2018-06-04 15:44:45  1003663859171852288   CharlesMichel   \n",
       "2018-06-04 15:44:49  1003663876167274497     faisalislam   \n",
       "2018-06-04 15:44:55  1003663897927344134        OrinKerr   \n",
       "\n",
       "                                                                 tweet  \n",
       "timestamp                                                               \n",
       "2018-06-01 15:45:03  Wife of ex-Malaysian PM summoned in probe over...  \n",
       "2018-06-01 15:45:08  It's the collective action that matters and in...  \n",
       "2018-06-01 15:45:12  But you know, at 20, my heroes were HL Mencken...  \n",
       "2018-06-01 15:45:19  It’s our 20th birthday today! Want to know mor...  \n",
       "2018-06-01 15:45:21                         *A funeral. I cannot type.  \n",
       "...                                                                ...  \n",
       "2018-06-04 15:44:40  The unfilled vacancy for benign hegemon of glo...  \n",
       "2018-06-04 15:44:44  $AMD so much call buying last month or so smel...  \n",
       "2018-06-04 15:44:45  Bezoek OCMW van Etterbeek, ontmoeting met maat...  \n",
       "2018-06-04 15:44:49  Also - the Government needs to pass not just 1...  \n",
       "2018-06-04 15:44:55  Sure.  But what does that have to do with his ...  \n",
       "\n",
       "[23060 rows x 3 columns]"
      ]
     },
     "execution_count": 49,
     "metadata": {},
     "output_type": "execute_result"
    }
   ],
   "source": [
    "tweet_df[date_range[0]:(date_range[1]-dt.timedelta(seconds=1))]"
   ]
  },
  {
   "cell_type": "code",
   "execution_count": 63,
   "metadata": {},
   "outputs": [],
   "source": [
    "ts=TopicSeries()\n",
    "for i in range(len(date_range)-1):\n",
    "    str_date = str(date_range[i].date()\n",
    "    print(str_date)\n",
    "    ts.calculate_nmf(str_date), \n",
    "                     tweet_df[date_range[0]:(date_range[1]-dt.timedelta(seconds=1))].tweet)"
   ]
  },
  {
   "cell_type": "code",
   "execution_count": null,
   "metadata": {},
   "outputs": [],
   "source": []
  },
  {
   "cell_type": "code",
   "execution_count": null,
   "metadata": {},
   "outputs": [],
   "source": []
  },
  {
   "cell_type": "code",
   "execution_count": null,
   "metadata": {},
   "outputs": [],
   "source": []
  },
  {
   "cell_type": "code",
   "execution_count": 5,
   "metadata": {},
   "outputs": [],
   "source": [
    "tweet_df = tweet_df[tweet_df.index < '06-01-2020']\n",
    "single_day = tweet_df['2016-11-09']\n",
    "ts =TopicSeries()\n",
    "ts.calculate_day('2016-11-09', tweet_df['2016-11-09'].tweet)\n",
    "ts.calculate_day('2016-05-08', tweet_df['2016-05-08'].tweet)"
   ]
  },
  {
   "cell_type": "code",
   "execution_count": 11,
   "metadata": {},
   "outputs": [],
   "source": [
    "sub = [lda, cv, nmf, tfidf]"
   ]
  },
  {
   "cell_type": "code",
   "execution_count": 4,
   "metadata": {},
   "outputs": [],
   "source": [
    "import pickle\n",
    "pickle.dump(ts, open( \"save.p\", \"wb\" ))"
   ]
  },
  {
   "cell_type": "code",
   "execution_count": 5,
   "metadata": {},
   "outputs": [],
   "source": [
    "import pickle\n",
    "a = pickle.load(open( \"save.p\", \"rb\" ))"
   ]
  },
  {
   "cell_type": "code",
   "execution_count": 8,
   "metadata": {},
   "outputs": [
    {
     "data": {
      "text/plain": [
       "[LatentDirichletAllocation(n_components=5, random_state=42),\n",
       " CountVectorizer(tokenizer=<function TopicSeries.twitter_tokenizer at 0x7ffe7bc88440>),\n",
       " NMF(n_components=5, random_state=5),\n",
       " TfidfVectorizer(tokenizer=<function TopicSeries.twitter_tokenizer at 0x7ffe7bc88440>)]"
      ]
     },
     "execution_count": 8,
     "metadata": {},
     "output_type": "execute_result"
    }
   ],
   "source": [
    "a.models['2016-11-09']"
   ]
  },
  {
   "cell_type": "code",
   "execution_count": 12,
   "metadata": {},
   "outputs": [
    {
     "name": "stdout",
     "output_type": "stream",
     "text": [
      "Topic 0:\n",
      "day happy mother mothers mom moms love #mothersday great thank wife nice time celebrating appreciation important today life enjoy world\n",
      "Topic 1:\n",
      "trump donald says clinton hillary gop party women republican ryan going president win taxes paul nominee wealthy better candidate said\n",
      "Topic 2:\n",
      "lol yep seen look actual idiot irl pic pro true picks trying fireworks nails choice texas nice huh answer haha\n",
      "Topic 3:\n",
      "good luck morning point love story man pretty night new nt book true time years listen wo saudi change add\n",
      "Topic 4:\n",
      "like know thanks think people yes new look right sure going time saudi oh great actually minister china oil looks\n"
     ]
    }
   ],
   "source": [
    "display_components(a.models['2016-05-08'][2], a.models['2016-05-08'][3].get_feature_names(), top_display=20)"
   ]
  }
 ],
 "metadata": {
  "kernelspec": {
   "display_name": "Python 3",
   "language": "python",
   "name": "python3"
  },
  "language_info": {
   "codemirror_mode": {
    "name": "ipython",
    "version": 3
   },
   "file_extension": ".py",
   "mimetype": "text/x-python",
   "name": "python",
   "nbconvert_exporter": "python",
   "pygments_lexer": "ipython3",
   "version": "3.7.6"
  }
 },
 "nbformat": 4,
 "nbformat_minor": 4
}
