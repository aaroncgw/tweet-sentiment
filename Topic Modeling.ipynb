{
 "cells": [
  {
   "cell_type": "code",
   "execution_count": 1,
   "metadata": {},
   "outputs": [],
   "source": [
    "from modules.tweet_data import read_raw_data\n",
    "from modules.topics import TopicSeries, display_components\n",
    "\n",
    "import datetime as dt\n",
    "import pandas as pd\n",
    "import spacy\n",
    "import re\n",
    "from sklearn.feature_extraction.text import CountVectorizer, TfidfVectorizer\n",
    "from sklearn.decomposition import NMF, LatentDirichletAllocation\n",
    "\n",
    "import matplotlib.pyplot as plt"
   ]
  },
  {
   "cell_type": "code",
   "execution_count": 3,
   "metadata": {},
   "outputs": [],
   "source": [
    "tweet_df = read_raw_data()\n",
    "es = pd.read_csv('data/ES.csv')"
   ]
  },
  {
   "cell_type": "code",
   "execution_count": 4,
   "metadata": {},
   "outputs": [],
   "source": [
    "es = es[es.Time == '15:00'][['Date','Time','Close']]\n",
    "es.Date = pd.to_datetime(es.Date +' ' +'15:45')\n",
    "es.drop('Time',axis=1,inplace=True)\n",
    "es.set_index('Date', inplace=True)\n",
    "date_range = es['2018-6-1':'2020-5-31'].index"
   ]
  },
  {
   "cell_type": "code",
   "execution_count": 49,
   "metadata": {},
   "outputs": [
    {
     "data": {
      "text/html": [
       "<div>\n",
       "<style scoped>\n",
       "    .dataframe tbody tr th:only-of-type {\n",
       "        vertical-align: middle;\n",
       "    }\n",
       "\n",
       "    .dataframe tbody tr th {\n",
       "        vertical-align: top;\n",
       "    }\n",
       "\n",
       "    .dataframe thead th {\n",
       "        text-align: right;\n",
       "    }\n",
       "</style>\n",
       "<table border=\"1\" class=\"dataframe\">\n",
       "  <thead>\n",
       "    <tr style=\"text-align: right;\">\n",
       "      <th></th>\n",
       "      <th>tweet_id</th>\n",
       "      <th>handle</th>\n",
       "      <th>tweet</th>\n",
       "    </tr>\n",
       "    <tr>\n",
       "      <th>timestamp</th>\n",
       "      <th></th>\n",
       "      <th></th>\n",
       "      <th></th>\n",
       "    </tr>\n",
       "  </thead>\n",
       "  <tbody>\n",
       "    <tr>\n",
       "      <th>2018-06-01 15:45:03</th>\n",
       "      <td>1002576770879643649</td>\n",
       "      <td>AJEnglish</td>\n",
       "      <td>Wife of ex-Malaysian PM summoned in probe over...</td>\n",
       "    </tr>\n",
       "    <tr>\n",
       "      <th>2018-06-01 15:45:08</th>\n",
       "      <td>1002576790190247937</td>\n",
       "      <td>michaelsantoli</td>\n",
       "      <td>It's the collective action that matters and in...</td>\n",
       "    </tr>\n",
       "    <tr>\n",
       "      <th>2018-06-01 15:45:12</th>\n",
       "      <td>1002576807302975489</td>\n",
       "      <td>asymmetricinfo</td>\n",
       "      <td>But you know, at 20, my heroes were HL Mencken...</td>\n",
       "    </tr>\n",
       "    <tr>\n",
       "      <th>2018-06-01 15:45:19</th>\n",
       "      <td>1002576838542184448</td>\n",
       "      <td>ecb</td>\n",
       "      <td>It’s our 20th birthday today! Want to know mor...</td>\n",
       "    </tr>\n",
       "    <tr>\n",
       "      <th>2018-06-01 15:45:21</th>\n",
       "      <td>1002576844074385408</td>\n",
       "      <td>soledadobrien</td>\n",
       "      <td>*A funeral. I cannot type.</td>\n",
       "    </tr>\n",
       "    <tr>\n",
       "      <th>...</th>\n",
       "      <td>...</td>\n",
       "      <td>...</td>\n",
       "      <td>...</td>\n",
       "    </tr>\n",
       "    <tr>\n",
       "      <th>2018-06-04 15:44:40</th>\n",
       "      <td>1003663838259138560</td>\n",
       "      <td>ftchina</td>\n",
       "      <td>The unfilled vacancy for benign hegemon of glo...</td>\n",
       "    </tr>\n",
       "    <tr>\n",
       "      <th>2018-06-04 15:44:44</th>\n",
       "      <td>1003663854893613057</td>\n",
       "      <td>canuck2usa</td>\n",
       "      <td>$AMD so much call buying last month or so smel...</td>\n",
       "    </tr>\n",
       "    <tr>\n",
       "      <th>2018-06-04 15:44:45</th>\n",
       "      <td>1003663859171852288</td>\n",
       "      <td>CharlesMichel</td>\n",
       "      <td>Bezoek OCMW van Etterbeek, ontmoeting met maat...</td>\n",
       "    </tr>\n",
       "    <tr>\n",
       "      <th>2018-06-04 15:44:49</th>\n",
       "      <td>1003663876167274497</td>\n",
       "      <td>faisalislam</td>\n",
       "      <td>Also - the Government needs to pass not just 1...</td>\n",
       "    </tr>\n",
       "    <tr>\n",
       "      <th>2018-06-04 15:44:55</th>\n",
       "      <td>1003663897927344134</td>\n",
       "      <td>OrinKerr</td>\n",
       "      <td>Sure.  But what does that have to do with his ...</td>\n",
       "    </tr>\n",
       "  </tbody>\n",
       "</table>\n",
       "<p>23060 rows × 3 columns</p>\n",
       "</div>"
      ],
      "text/plain": [
       "                                tweet_id          handle  \\\n",
       "timestamp                                                  \n",
       "2018-06-01 15:45:03  1002576770879643649       AJEnglish   \n",
       "2018-06-01 15:45:08  1002576790190247937  michaelsantoli   \n",
       "2018-06-01 15:45:12  1002576807302975489  asymmetricinfo   \n",
       "2018-06-01 15:45:19  1002576838542184448             ecb   \n",
       "2018-06-01 15:45:21  1002576844074385408   soledadobrien   \n",
       "...                                  ...             ...   \n",
       "2018-06-04 15:44:40  1003663838259138560         ftchina   \n",
       "2018-06-04 15:44:44  1003663854893613057      canuck2usa   \n",
       "2018-06-04 15:44:45  1003663859171852288   CharlesMichel   \n",
       "2018-06-04 15:44:49  1003663876167274497     faisalislam   \n",
       "2018-06-04 15:44:55  1003663897927344134        OrinKerr   \n",
       "\n",
       "                                                                 tweet  \n",
       "timestamp                                                               \n",
       "2018-06-01 15:45:03  Wife of ex-Malaysian PM summoned in probe over...  \n",
       "2018-06-01 15:45:08  It's the collective action that matters and in...  \n",
       "2018-06-01 15:45:12  But you know, at 20, my heroes were HL Mencken...  \n",
       "2018-06-01 15:45:19  It’s our 20th birthday today! Want to know mor...  \n",
       "2018-06-01 15:45:21                         *A funeral. I cannot type.  \n",
       "...                                                                ...  \n",
       "2018-06-04 15:44:40  The unfilled vacancy for benign hegemon of glo...  \n",
       "2018-06-04 15:44:44  $AMD so much call buying last month or so smel...  \n",
       "2018-06-04 15:44:45  Bezoek OCMW van Etterbeek, ontmoeting met maat...  \n",
       "2018-06-04 15:44:49  Also - the Government needs to pass not just 1...  \n",
       "2018-06-04 15:44:55  Sure.  But what does that have to do with his ...  \n",
       "\n",
       "[23060 rows x 3 columns]"
      ]
     },
     "execution_count": 49,
     "metadata": {},
     "output_type": "execute_result"
    }
   ],
   "source": [
    "tweet_df[date_range[0]:(date_range[1]-dt.timedelta(seconds=1))]"
   ]
  },
  {
   "cell_type": "code",
   "execution_count": 16,
   "metadata": {},
   "outputs": [],
   "source": [
    "date_range = es['2011-12-30':'2020-5-31'].index"
   ]
  },
  {
   "cell_type": "code",
   "execution_count": 26,
   "metadata": {},
   "outputs": [
    {
     "data": {
      "text/plain": [
       "DatetimeIndex(['2017-03-15 15:45:00', '2017-03-16 15:45:00',\n",
       "               '2017-03-17 15:45:00', '2017-03-20 15:45:00',\n",
       "               '2017-03-21 15:45:00', '2017-03-22 15:45:00',\n",
       "               '2017-03-23 15:45:00', '2017-03-24 15:45:00',\n",
       "               '2017-03-27 15:45:00', '2017-03-28 15:45:00',\n",
       "               ...\n",
       "               '2018-10-05 15:45:00', '2018-10-08 15:45:00',\n",
       "               '2018-10-09 15:45:00', '2018-10-10 15:45:00',\n",
       "               '2018-10-11 15:45:00', '2018-10-12 15:45:00',\n",
       "               '2018-10-15 15:45:00', '2018-10-16 15:45:00',\n",
       "               '2018-10-17 15:45:00', '2018-10-18 15:45:00'],\n",
       "              dtype='datetime64[ns]', name='Date', length=401, freq=None)"
      ]
     },
     "execution_count": 26,
     "metadata": {},
     "output_type": "execute_result"
    }
   ],
   "source": [
    "batch = date_range[-800:-399]\n",
    "#date_range[-1200:-799]\n",
    "batch"
   ]
  },
  {
   "cell_type": "code",
   "execution_count": null,
   "metadata": {},
   "outputs": [
    {
     "name": "stdout",
     "output_type": "stream",
     "text": [
      "2017-03-16\n",
      "2017-03-17\n",
      "2017-03-20\n",
      "2017-03-21\n",
      "2017-03-22\n",
      "2017-03-23\n",
      "2017-03-24\n",
      "2017-03-27\n"
     ]
    },
    {
     "name": "stderr",
     "output_type": "stream",
     "text": [
      "/home/lalopey/anaconda3/envs/tweet-sentiment/lib/python3.7/site-packages/sklearn/decomposition/_nmf.py:1077: ConvergenceWarning: Maximum number of iterations 200 reached. Increase it to improve convergence.\n",
      "  \" improve convergence.\" % max_iter, ConvergenceWarning)\n"
     ]
    },
    {
     "name": "stdout",
     "output_type": "stream",
     "text": [
      "2017-03-28\n",
      "2017-03-29\n",
      "2017-03-30\n",
      "2017-03-31\n",
      "2017-04-03\n",
      "2017-04-04\n",
      "2017-04-05\n",
      "2017-04-06\n",
      "2017-04-07\n",
      "2017-04-10\n",
      "2017-04-11\n",
      "2017-04-12\n",
      "2017-04-13\n",
      "2017-04-17\n",
      "2017-04-18\n",
      "2017-04-19\n",
      "2017-04-20\n"
     ]
    },
    {
     "name": "stderr",
     "output_type": "stream",
     "text": [
      "/home/lalopey/anaconda3/envs/tweet-sentiment/lib/python3.7/site-packages/sklearn/decomposition/_nmf.py:1077: ConvergenceWarning: Maximum number of iterations 200 reached. Increase it to improve convergence.\n",
      "  \" improve convergence.\" % max_iter, ConvergenceWarning)\n"
     ]
    },
    {
     "name": "stdout",
     "output_type": "stream",
     "text": [
      "2017-04-21\n",
      "2017-04-24\n",
      "2017-04-25\n",
      "2017-04-26\n",
      "2017-04-27\n"
     ]
    },
    {
     "name": "stderr",
     "output_type": "stream",
     "text": [
      "/home/lalopey/anaconda3/envs/tweet-sentiment/lib/python3.7/site-packages/sklearn/decomposition/_nmf.py:1077: ConvergenceWarning: Maximum number of iterations 200 reached. Increase it to improve convergence.\n",
      "  \" improve convergence.\" % max_iter, ConvergenceWarning)\n"
     ]
    },
    {
     "name": "stdout",
     "output_type": "stream",
     "text": [
      "2017-04-28\n",
      "2017-05-01\n",
      "2017-05-02\n",
      "2017-05-03\n",
      "2017-05-04\n",
      "2017-05-05\n"
     ]
    },
    {
     "name": "stderr",
     "output_type": "stream",
     "text": [
      "/home/lalopey/anaconda3/envs/tweet-sentiment/lib/python3.7/site-packages/sklearn/decomposition/_nmf.py:1077: ConvergenceWarning: Maximum number of iterations 200 reached. Increase it to improve convergence.\n",
      "  \" improve convergence.\" % max_iter, ConvergenceWarning)\n"
     ]
    },
    {
     "name": "stdout",
     "output_type": "stream",
     "text": [
      "2017-05-08\n",
      "2017-05-09\n",
      "2017-05-10\n",
      "2017-05-11\n",
      "2017-05-12\n",
      "2017-05-15\n",
      "2017-05-16\n",
      "2017-05-17\n",
      "2017-05-18\n",
      "2017-05-19\n",
      "2017-05-22\n",
      "2017-05-23\n"
     ]
    },
    {
     "name": "stderr",
     "output_type": "stream",
     "text": [
      "/home/lalopey/anaconda3/envs/tweet-sentiment/lib/python3.7/site-packages/sklearn/decomposition/_nmf.py:1077: ConvergenceWarning: Maximum number of iterations 200 reached. Increase it to improve convergence.\n",
      "  \" improve convergence.\" % max_iter, ConvergenceWarning)\n"
     ]
    },
    {
     "name": "stdout",
     "output_type": "stream",
     "text": [
      "2017-05-24\n",
      "2017-05-25\n",
      "2017-05-26\n",
      "2017-05-30\n",
      "2017-05-31\n",
      "2017-06-01\n",
      "2017-06-02\n",
      "2017-06-05\n",
      "2017-06-06\n",
      "2017-06-07\n"
     ]
    },
    {
     "name": "stderr",
     "output_type": "stream",
     "text": [
      "/home/lalopey/anaconda3/envs/tweet-sentiment/lib/python3.7/site-packages/sklearn/decomposition/_nmf.py:1077: ConvergenceWarning: Maximum number of iterations 200 reached. Increase it to improve convergence.\n",
      "  \" improve convergence.\" % max_iter, ConvergenceWarning)\n"
     ]
    },
    {
     "name": "stdout",
     "output_type": "stream",
     "text": [
      "2017-06-08\n",
      "2017-06-09\n",
      "2017-06-12\n",
      "2017-06-13\n",
      "2017-06-14\n",
      "2017-06-15\n"
     ]
    },
    {
     "name": "stderr",
     "output_type": "stream",
     "text": [
      "/home/lalopey/anaconda3/envs/tweet-sentiment/lib/python3.7/site-packages/sklearn/decomposition/_nmf.py:1077: ConvergenceWarning: Maximum number of iterations 200 reached. Increase it to improve convergence.\n",
      "  \" improve convergence.\" % max_iter, ConvergenceWarning)\n"
     ]
    },
    {
     "name": "stdout",
     "output_type": "stream",
     "text": [
      "2017-06-16\n",
      "2017-06-19\n"
     ]
    },
    {
     "name": "stderr",
     "output_type": "stream",
     "text": [
      "/home/lalopey/anaconda3/envs/tweet-sentiment/lib/python3.7/site-packages/sklearn/decomposition/_nmf.py:1077: ConvergenceWarning: Maximum number of iterations 200 reached. Increase it to improve convergence.\n",
      "  \" improve convergence.\" % max_iter, ConvergenceWarning)\n"
     ]
    },
    {
     "name": "stdout",
     "output_type": "stream",
     "text": [
      "2017-06-20\n",
      "2017-06-21\n",
      "2017-06-22\n",
      "2017-06-23\n",
      "2017-06-26\n",
      "2017-06-27\n",
      "2017-06-28\n",
      "2017-06-29\n",
      "2017-06-30\n",
      "2017-07-05\n",
      "2017-07-06\n",
      "2017-07-07\n",
      "2017-07-10\n",
      "2017-07-11\n",
      "2017-07-12\n",
      "2017-07-13\n",
      "2017-07-14\n"
     ]
    },
    {
     "name": "stderr",
     "output_type": "stream",
     "text": [
      "/home/lalopey/anaconda3/envs/tweet-sentiment/lib/python3.7/site-packages/sklearn/decomposition/_nmf.py:1077: ConvergenceWarning: Maximum number of iterations 200 reached. Increase it to improve convergence.\n",
      "  \" improve convergence.\" % max_iter, ConvergenceWarning)\n"
     ]
    },
    {
     "name": "stdout",
     "output_type": "stream",
     "text": [
      "2017-07-17\n",
      "2017-07-18\n",
      "2017-07-19\n",
      "2017-07-20\n",
      "2017-07-21\n",
      "2017-07-24\n",
      "2017-07-25\n",
      "2017-07-26\n",
      "2017-07-27\n",
      "2017-07-28\n",
      "2017-07-31\n",
      "2017-08-01\n",
      "2017-08-02\n",
      "2017-08-03\n",
      "2017-08-04\n",
      "2017-08-07\n"
     ]
    },
    {
     "name": "stderr",
     "output_type": "stream",
     "text": [
      "/home/lalopey/anaconda3/envs/tweet-sentiment/lib/python3.7/site-packages/sklearn/decomposition/_nmf.py:1077: ConvergenceWarning: Maximum number of iterations 200 reached. Increase it to improve convergence.\n",
      "  \" improve convergence.\" % max_iter, ConvergenceWarning)\n"
     ]
    },
    {
     "name": "stdout",
     "output_type": "stream",
     "text": [
      "2017-08-08\n"
     ]
    },
    {
     "name": "stderr",
     "output_type": "stream",
     "text": [
      "/home/lalopey/anaconda3/envs/tweet-sentiment/lib/python3.7/site-packages/sklearn/decomposition/_nmf.py:1077: ConvergenceWarning: Maximum number of iterations 200 reached. Increase it to improve convergence.\n",
      "  \" improve convergence.\" % max_iter, ConvergenceWarning)\n"
     ]
    },
    {
     "name": "stdout",
     "output_type": "stream",
     "text": [
      "2017-08-09\n",
      "2017-08-10\n",
      "2017-08-11\n",
      "2017-08-14\n",
      "2017-08-15\n",
      "2017-08-16\n",
      "2017-08-17\n",
      "2017-08-18\n",
      "2017-08-21\n",
      "2017-08-22\n",
      "2017-08-23\n",
      "2017-08-24\n",
      "2017-08-25\n",
      "2017-08-28\n",
      "2017-08-29\n",
      "2017-08-30\n",
      "2017-08-31\n",
      "2017-09-01\n",
      "2017-09-05\n",
      "2017-09-06\n",
      "2017-09-07\n",
      "2017-09-08\n",
      "2017-09-11\n",
      "2017-09-12\n",
      "2017-09-13\n",
      "2017-09-14\n",
      "2017-09-15\n",
      "2017-09-18\n"
     ]
    }
   ],
   "source": [
    "#ts=TopicSeries()\n",
    "for i in range(len(batch)-1):\n",
    "    str_date = str(batch[i+1].date())\n",
    "    print(str_date)\n",
    "    ts.calculate_nmf(str_date, \n",
    "                     tweet_df[batch[i]:(batch[i+1]-dt.timedelta(seconds=1))].tweet)"
   ]
  },
  {
   "cell_type": "code",
   "execution_count": 25,
   "metadata": {},
   "outputs": [],
   "source": [
    "import pickle\n",
    "\n",
    "pickle.dump( ts, open( \"NMF-2018-10-19-2020-05-29.p\", \"wb\" ) )"
   ]
  },
  {
   "cell_type": "code",
   "execution_count": null,
   "metadata": {},
   "outputs": [],
   "source": []
  },
  {
   "cell_type": "code",
   "execution_count": 5,
   "metadata": {},
   "outputs": [],
   "source": [
    "tweet_df = tweet_df[tweet_df.index < '06-01-2020']\n",
    "single_day = tweet_df['2016-11-09']\n",
    "ts =TopicSeries()\n",
    "ts.calculate_day('2016-11-09', tweet_df['2016-11-09'].tweet)\n",
    "ts.calculate_day('2016-05-08', tweet_df['2016-05-08'].tweet)"
   ]
  },
  {
   "cell_type": "code",
   "execution_count": 5,
   "metadata": {},
   "outputs": [],
   "source": [
    "sub = [lda, cv, nmf, tfidf]"
   ]
  },
  {
   "cell_type": "code",
   "execution_count": 8,
   "metadata": {},
   "outputs": [
    {
     "data": {
      "text/plain": [
       "[LatentDirichletAllocation(n_components=5, random_state=42),\n",
       " CountVectorizer(tokenizer=<function TopicSeries.twitter_tokenizer at 0x7ffe7bc88440>),\n",
       " NMF(n_components=5, random_state=5),\n",
       " TfidfVectorizer(tokenizer=<function TopicSeries.twitter_tokenizer at 0x7ffe7bc88440>)]"
      ]
     },
     "execution_count": 8,
     "metadata": {},
     "output_type": "execute_result"
    }
   ],
   "source": [
    "a.models['2016-11-09']"
   ]
  },
  {
   "cell_type": "code",
   "execution_count": 12,
   "metadata": {},
   "outputs": [
    {
     "name": "stdout",
     "output_type": "stream",
     "text": [
      "Topic 0:\n",
      "day happy mother mothers mom moms love #mothersday great thank wife nice time celebrating appreciation important today life enjoy world\n",
      "Topic 1:\n",
      "trump donald says clinton hillary gop party women republican ryan going president win taxes paul nominee wealthy better candidate said\n",
      "Topic 2:\n",
      "lol yep seen look actual idiot irl pic pro true picks trying fireworks nails choice texas nice huh answer haha\n",
      "Topic 3:\n",
      "good luck morning point love story man pretty night new nt book true time years listen wo saudi change add\n",
      "Topic 4:\n",
      "like know thanks think people yes new look right sure going time saudi oh great actually minister china oil looks\n"
     ]
    }
   ],
   "source": [
    "display_components(a.models['2016-05-08'][2], a.models['2016-05-08'][3].get_feature_names(), top_display=20)"
   ]
  }
 ],
 "metadata": {
  "kernelspec": {
   "display_name": "Python 3",
   "language": "python",
   "name": "python3"
  },
  "language_info": {
   "codemirror_mode": {
    "name": "ipython",
    "version": 3
   },
   "file_extension": ".py",
   "mimetype": "text/x-python",
   "name": "python",
   "nbconvert_exporter": "python",
   "pygments_lexer": "ipython3",
   "version": "3.7.7"
  }
 },
 "nbformat": 4,
 "nbformat_minor": 4
}